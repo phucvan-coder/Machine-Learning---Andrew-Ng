{
 "cells": [
  {
   "cell_type": "markdown",
   "id": "b2e10093",
   "metadata": {},
   "source": [
    "# Basic Function"
   ]
  },
  {
   "cell_type": "code",
   "execution_count": 1,
   "id": "03f33bed",
   "metadata": {},
   "outputs": [],
   "source": [
    "import numpy as np"
   ]
  },
  {
   "cell_type": "code",
   "execution_count": 2,
   "id": "7cdbb5ec",
   "metadata": {},
   "outputs": [
    {
     "name": "stdout",
     "output_type": "stream",
     "text": [
      "Running warmUpExercise ... \n",
      "5x5 Identity Matrix: \n"
     ]
    }
   ],
   "source": [
    "print(\"Running warmUpExercise ... \")\n",
    "print(\"5x5 Identity Matrix: \")"
   ]
  },
  {
   "cell_type": "code",
   "execution_count": 3,
   "id": "6b512a7c",
   "metadata": {},
   "outputs": [],
   "source": [
    "def warmUpExercise():\n",
    "    A = []\n",
    "    A = np.identity(5)\n",
    "    return A"
   ]
  },
  {
   "cell_type": "code",
   "execution_count": 4,
   "id": "07711acb",
   "metadata": {},
   "outputs": [],
   "source": [
    "A = warmUpExercise()"
   ]
  },
  {
   "cell_type": "code",
   "execution_count": 5,
   "id": "b68decc0",
   "metadata": {},
   "outputs": [
    {
     "data": {
      "text/plain": [
       "array([[1., 0., 0., 0., 0.],\n",
       "       [0., 1., 0., 0., 0.],\n",
       "       [0., 0., 1., 0., 0.],\n",
       "       [0., 0., 0., 1., 0.],\n",
       "       [0., 0., 0., 0., 1.]])"
      ]
     },
     "execution_count": 5,
     "metadata": {},
     "output_type": "execute_result"
    }
   ],
   "source": [
    "A"
   ]
  },
  {
   "cell_type": "markdown",
   "id": "0493eef6",
   "metadata": {},
   "source": [
    "# Linear Regression with one variable"
   ]
  },
  {
   "cell_type": "markdown",
   "id": "81b3bb20",
   "metadata": {},
   "source": [
    "## 2.1 Plotting the Data"
   ]
  },
  {
   "cell_type": "code",
   "execution_count": 7,
   "id": "c27b1803",
   "metadata": {},
   "outputs": [
    {
     "data": {
      "text/html": [
       "<div>\n",
       "<style scoped>\n",
       "    .dataframe tbody tr th:only-of-type {\n",
       "        vertical-align: middle;\n",
       "    }\n",
       "\n",
       "    .dataframe tbody tr th {\n",
       "        vertical-align: top;\n",
       "    }\n",
       "\n",
       "    .dataframe thead th {\n",
       "        text-align: right;\n",
       "    }\n",
       "</style>\n",
       "<table border=\"1\" class=\"dataframe\">\n",
       "  <thead>\n",
       "    <tr style=\"text-align: right;\">\n",
       "      <th></th>\n",
       "      <th>Number of Population</th>\n",
       "      <th>Profit</th>\n",
       "    </tr>\n",
       "  </thead>\n",
       "  <tbody>\n",
       "    <tr>\n",
       "      <th>0</th>\n",
       "      <td>6.1101</td>\n",
       "      <td>17.59200</td>\n",
       "    </tr>\n",
       "    <tr>\n",
       "      <th>1</th>\n",
       "      <td>5.5277</td>\n",
       "      <td>9.13020</td>\n",
       "    </tr>\n",
       "    <tr>\n",
       "      <th>2</th>\n",
       "      <td>8.5186</td>\n",
       "      <td>13.66200</td>\n",
       "    </tr>\n",
       "    <tr>\n",
       "      <th>3</th>\n",
       "      <td>7.0032</td>\n",
       "      <td>11.85400</td>\n",
       "    </tr>\n",
       "    <tr>\n",
       "      <th>4</th>\n",
       "      <td>5.8598</td>\n",
       "      <td>6.82330</td>\n",
       "    </tr>\n",
       "    <tr>\n",
       "      <th>...</th>\n",
       "      <td>...</td>\n",
       "      <td>...</td>\n",
       "    </tr>\n",
       "    <tr>\n",
       "      <th>92</th>\n",
       "      <td>5.8707</td>\n",
       "      <td>7.20290</td>\n",
       "    </tr>\n",
       "    <tr>\n",
       "      <th>93</th>\n",
       "      <td>5.3054</td>\n",
       "      <td>1.98690</td>\n",
       "    </tr>\n",
       "    <tr>\n",
       "      <th>94</th>\n",
       "      <td>8.2934</td>\n",
       "      <td>0.14454</td>\n",
       "    </tr>\n",
       "    <tr>\n",
       "      <th>95</th>\n",
       "      <td>13.3940</td>\n",
       "      <td>9.05510</td>\n",
       "    </tr>\n",
       "    <tr>\n",
       "      <th>96</th>\n",
       "      <td>5.4369</td>\n",
       "      <td>0.61705</td>\n",
       "    </tr>\n",
       "  </tbody>\n",
       "</table>\n",
       "<p>97 rows × 2 columns</p>\n",
       "</div>"
      ],
      "text/plain": [
       "    Number of Population    Profit\n",
       "0                 6.1101  17.59200\n",
       "1                 5.5277   9.13020\n",
       "2                 8.5186  13.66200\n",
       "3                 7.0032  11.85400\n",
       "4                 5.8598   6.82330\n",
       "..                   ...       ...\n",
       "92                5.8707   7.20290\n",
       "93                5.3054   1.98690\n",
       "94                8.2934   0.14454\n",
       "95               13.3940   9.05510\n",
       "96                5.4369   0.61705\n",
       "\n",
       "[97 rows x 2 columns]"
      ]
     },
     "execution_count": 7,
     "metadata": {},
     "output_type": "execute_result"
    }
   ],
   "source": [
    "import pandas as pd\n",
    "data = pd.read_csv('ex1data1.txt', header=None, names=['Population of City', 'Profit'])\n",
    "data"
   ]
  },
  {
   "cell_type": "code",
   "execution_count": 74,
   "id": "a22b6140",
   "metadata": {},
   "outputs": [
    {
     "data": {
      "text/html": [
       "<div>\n",
       "<style scoped>\n",
       "    .dataframe tbody tr th:only-of-type {\n",
       "        vertical-align: middle;\n",
       "    }\n",
       "\n",
       "    .dataframe tbody tr th {\n",
       "        vertical-align: top;\n",
       "    }\n",
       "\n",
       "    .dataframe thead th {\n",
       "        text-align: right;\n",
       "    }\n",
       "</style>\n",
       "<table border=\"1\" class=\"dataframe\">\n",
       "  <thead>\n",
       "    <tr style=\"text-align: right;\">\n",
       "      <th></th>\n",
       "      <th>Number of Population</th>\n",
       "      <th>Profit</th>\n",
       "    </tr>\n",
       "  </thead>\n",
       "  <tbody>\n",
       "    <tr>\n",
       "      <th>count</th>\n",
       "      <td>97.000000</td>\n",
       "      <td>97.000000</td>\n",
       "    </tr>\n",
       "    <tr>\n",
       "      <th>mean</th>\n",
       "      <td>8.159800</td>\n",
       "      <td>5.839135</td>\n",
       "    </tr>\n",
       "    <tr>\n",
       "      <th>std</th>\n",
       "      <td>3.869884</td>\n",
       "      <td>5.510262</td>\n",
       "    </tr>\n",
       "    <tr>\n",
       "      <th>min</th>\n",
       "      <td>5.026900</td>\n",
       "      <td>-2.680700</td>\n",
       "    </tr>\n",
       "    <tr>\n",
       "      <th>25%</th>\n",
       "      <td>5.707700</td>\n",
       "      <td>1.986900</td>\n",
       "    </tr>\n",
       "    <tr>\n",
       "      <th>50%</th>\n",
       "      <td>6.589400</td>\n",
       "      <td>4.562300</td>\n",
       "    </tr>\n",
       "    <tr>\n",
       "      <th>75%</th>\n",
       "      <td>8.578100</td>\n",
       "      <td>7.046700</td>\n",
       "    </tr>\n",
       "    <tr>\n",
       "      <th>max</th>\n",
       "      <td>22.203000</td>\n",
       "      <td>24.147000</td>\n",
       "    </tr>\n",
       "  </tbody>\n",
       "</table>\n",
       "</div>"
      ],
      "text/plain": [
       "       Number of Population     Profit\n",
       "count             97.000000  97.000000\n",
       "mean               8.159800   5.839135\n",
       "std                3.869884   5.510262\n",
       "min                5.026900  -2.680700\n",
       "25%                5.707700   1.986900\n",
       "50%                6.589400   4.562300\n",
       "75%                8.578100   7.046700\n",
       "max               22.203000  24.147000"
      ]
     },
     "execution_count": 74,
     "metadata": {},
     "output_type": "execute_result"
    }
   ],
   "source": [
    "data.describe()"
   ]
  },
  {
   "cell_type": "code",
   "execution_count": 8,
   "id": "05f3a0fc",
   "metadata": {},
   "outputs": [
    {
     "data": {
      "text/plain": [
       "(97, 2)"
      ]
     },
     "execution_count": 8,
     "metadata": {},
     "output_type": "execute_result"
    }
   ],
   "source": [
    "data.shape"
   ]
  },
  {
   "cell_type": "code",
   "execution_count": 62,
   "id": "4e11e611",
   "metadata": {},
   "outputs": [],
   "source": [
    "#get input\n",
    "X = data.iloc[:, :-1].values"
   ]
  },
  {
   "cell_type": "code",
   "execution_count": 63,
   "id": "e661a0dc",
   "metadata": {},
   "outputs": [],
   "source": [
    "#get output\n",
    "y = data.iloc[:, -1:].values"
   ]
  },
  {
   "cell_type": "code",
   "execution_count": 67,
   "id": "58ebfc36",
   "metadata": {},
   "outputs": [
    {
     "data": {
      "text/plain": [
       "array([[ 6.1101],\n",
       "       [ 5.5277],\n",
       "       [ 8.5186],\n",
       "       [ 7.0032],\n",
       "       [ 5.8598],\n",
       "       [ 8.3829],\n",
       "       [ 7.4764],\n",
       "       [ 8.5781],\n",
       "       [ 6.4862],\n",
       "       [ 5.0546],\n",
       "       [ 5.7107],\n",
       "       [14.164 ],\n",
       "       [ 5.734 ],\n",
       "       [ 8.4084],\n",
       "       [ 5.6407],\n",
       "       [ 5.3794],\n",
       "       [ 6.3654],\n",
       "       [ 5.1301],\n",
       "       [ 6.4296],\n",
       "       [ 7.0708],\n",
       "       [ 6.1891],\n",
       "       [20.27  ],\n",
       "       [ 5.4901],\n",
       "       [ 6.3261],\n",
       "       [ 5.5649],\n",
       "       [18.945 ],\n",
       "       [12.828 ],\n",
       "       [10.957 ],\n",
       "       [13.176 ],\n",
       "       [22.203 ],\n",
       "       [ 5.2524],\n",
       "       [ 6.5894],\n",
       "       [ 9.2482],\n",
       "       [ 5.8918],\n",
       "       [ 8.2111],\n",
       "       [ 7.9334],\n",
       "       [ 8.0959],\n",
       "       [ 5.6063],\n",
       "       [12.836 ],\n",
       "       [ 6.3534],\n",
       "       [ 5.4069],\n",
       "       [ 6.8825],\n",
       "       [11.708 ],\n",
       "       [ 5.7737],\n",
       "       [ 7.8247],\n",
       "       [ 7.0931],\n",
       "       [ 5.0702],\n",
       "       [ 5.8014],\n",
       "       [11.7   ],\n",
       "       [ 5.5416],\n",
       "       [ 7.5402],\n",
       "       [ 5.3077],\n",
       "       [ 7.4239],\n",
       "       [ 7.6031],\n",
       "       [ 6.3328],\n",
       "       [ 6.3589],\n",
       "       [ 6.2742],\n",
       "       [ 5.6397],\n",
       "       [ 9.3102],\n",
       "       [ 9.4536],\n",
       "       [ 8.8254],\n",
       "       [ 5.1793],\n",
       "       [21.279 ],\n",
       "       [14.908 ],\n",
       "       [18.959 ],\n",
       "       [ 7.2182],\n",
       "       [ 8.2951],\n",
       "       [10.236 ],\n",
       "       [ 5.4994],\n",
       "       [20.341 ],\n",
       "       [10.136 ],\n",
       "       [ 7.3345],\n",
       "       [ 6.0062],\n",
       "       [ 7.2259],\n",
       "       [ 5.0269],\n",
       "       [ 6.5479],\n",
       "       [ 7.5386],\n",
       "       [ 5.0365],\n",
       "       [10.274 ],\n",
       "       [ 5.1077],\n",
       "       [ 5.7292],\n",
       "       [ 5.1884],\n",
       "       [ 6.3557],\n",
       "       [ 9.7687],\n",
       "       [ 6.5159],\n",
       "       [ 8.5172],\n",
       "       [ 9.1802],\n",
       "       [ 6.002 ],\n",
       "       [ 5.5204],\n",
       "       [ 5.0594],\n",
       "       [ 5.7077],\n",
       "       [ 7.6366],\n",
       "       [ 5.8707],\n",
       "       [ 5.3054],\n",
       "       [ 8.2934],\n",
       "       [13.394 ],\n",
       "       [ 5.4369]])"
      ]
     },
     "execution_count": 67,
     "metadata": {},
     "output_type": "execute_result"
    }
   ],
   "source": [
    "X"
   ]
  },
  {
   "cell_type": "code",
   "execution_count": 69,
   "id": "06114ac7",
   "metadata": {},
   "outputs": [
    {
     "data": {
      "text/plain": [
       "array([[17.592  ],\n",
       "       [ 9.1302 ],\n",
       "       [13.662  ],\n",
       "       [11.854  ],\n",
       "       [ 6.8233 ],\n",
       "       [11.886  ],\n",
       "       [ 4.3483 ],\n",
       "       [12.     ],\n",
       "       [ 6.5987 ],\n",
       "       [ 3.8166 ],\n",
       "       [ 3.2522 ],\n",
       "       [15.505  ],\n",
       "       [ 3.1551 ],\n",
       "       [ 7.2258 ],\n",
       "       [ 0.71618],\n",
       "       [ 3.5129 ],\n",
       "       [ 5.3048 ],\n",
       "       [ 0.56077],\n",
       "       [ 3.6518 ],\n",
       "       [ 5.3893 ],\n",
       "       [ 3.1386 ],\n",
       "       [21.767  ],\n",
       "       [ 4.263  ],\n",
       "       [ 5.1875 ],\n",
       "       [ 3.0825 ],\n",
       "       [22.638  ],\n",
       "       [13.501  ],\n",
       "       [ 7.0467 ],\n",
       "       [14.692  ],\n",
       "       [24.147  ],\n",
       "       [-1.22   ],\n",
       "       [ 5.9966 ],\n",
       "       [12.134  ],\n",
       "       [ 1.8495 ],\n",
       "       [ 6.5426 ],\n",
       "       [ 4.5623 ],\n",
       "       [ 4.1164 ],\n",
       "       [ 3.3928 ],\n",
       "       [10.117  ],\n",
       "       [ 5.4974 ],\n",
       "       [ 0.55657],\n",
       "       [ 3.9115 ],\n",
       "       [ 5.3854 ],\n",
       "       [ 2.4406 ],\n",
       "       [ 6.7318 ],\n",
       "       [ 1.0463 ],\n",
       "       [ 5.1337 ],\n",
       "       [ 1.844  ],\n",
       "       [ 8.0043 ],\n",
       "       [ 1.0179 ],\n",
       "       [ 6.7504 ],\n",
       "       [ 1.8396 ],\n",
       "       [ 4.2885 ],\n",
       "       [ 4.9981 ],\n",
       "       [ 1.4233 ],\n",
       "       [-1.4211 ],\n",
       "       [ 2.4756 ],\n",
       "       [ 4.6042 ],\n",
       "       [ 3.9624 ],\n",
       "       [ 5.4141 ],\n",
       "       [ 5.1694 ],\n",
       "       [-0.74279],\n",
       "       [17.929  ],\n",
       "       [12.054  ],\n",
       "       [17.054  ],\n",
       "       [ 4.8852 ],\n",
       "       [ 5.7442 ],\n",
       "       [ 7.7754 ],\n",
       "       [ 1.0173 ],\n",
       "       [20.992  ],\n",
       "       [ 6.6799 ],\n",
       "       [ 4.0259 ],\n",
       "       [ 1.2784 ],\n",
       "       [ 3.3411 ],\n",
       "       [-2.6807 ],\n",
       "       [ 0.29678],\n",
       "       [ 3.8845 ],\n",
       "       [ 5.7014 ],\n",
       "       [ 6.7526 ],\n",
       "       [ 2.0576 ],\n",
       "       [ 0.47953],\n",
       "       [ 0.20421],\n",
       "       [ 0.67861],\n",
       "       [ 7.5435 ],\n",
       "       [ 5.3436 ],\n",
       "       [ 4.2415 ],\n",
       "       [ 6.7981 ],\n",
       "       [ 0.92695],\n",
       "       [ 0.152  ],\n",
       "       [ 2.8214 ],\n",
       "       [ 1.8451 ],\n",
       "       [ 4.2959 ],\n",
       "       [ 7.2029 ],\n",
       "       [ 1.9869 ],\n",
       "       [ 0.14454],\n",
       "       [ 9.0551 ],\n",
       "       [ 0.61705]])"
      ]
     },
     "execution_count": 69,
     "metadata": {},
     "output_type": "execute_result"
    }
   ],
   "source": [
    "y"
   ]
  },
  {
   "cell_type": "code",
   "execution_count": 75,
   "id": "6a346f64",
   "metadata": {},
   "outputs": [
    {
     "data": {
      "image/png": "[encoded data removed]",
      "text/plain": [
       "<Figure size 432x288 with 1 Axes>"
      ]
     },
     "metadata": {
      "needs_background": "light"
     },
     "output_type": "display_data"
    }
   ],
   "source": [
    "import matplotlib.pyplot as plt\n",
    "\n",
    "plt.scatter(X, y, c='red', marker='x')\n",
    "plt.xlabel('The Number of Population in City')\n",
    "plt.ylabel('The Profit')\n",
    "plt.show()"
   ]
  },
  {
   "cell_type": "markdown",
   "id": "30538117",
   "metadata": {},
   "source": [
    "## Gradient Descent "
   ]
  },
  {
   "cell_type": "code",
   "execution_count": null,
   "id": "7d87d592",
   "metadata": {},
   "outputs": [],
   "source": []
  }
 ],
 "metadata": {
  "kernelspec": {
   "display_name": "Python 3 (ipykernel)",
   "language": "python",
   "name": "python3"
  },
  "language_info": {
   "codemirror_mode": {
    "name": "ipython",
    "version": 3
   },
   "file_extension": ".py",
   "mimetype": "text/x-python",
   "name": "python",
   "nbconvert_exporter": "python",
   "pygments_lexer": "ipython3",
   "version": "3.9.12"
  }
 },
 "nbformat": 4,
 "nbformat_minor": 5
}
