{
 "cells": [
  {
   "cell_type": "markdown",
   "id": "353f1628",
   "metadata": {},
   "source": [
    "# 1 Regularized Linear Regression"
   ]
  },
  {
   "cell_type": "markdown",
   "id": "beedb533",
   "metadata": {},
   "source": [
    "## 1.1 Visualizing the dataset"
   ]
  },
  {
   "cell_type": "code",
   "execution_count": 202,
   "id": "8f455aee",
   "metadata": {},
   "outputs": [],
   "source": [
    "import numpy as np\n",
    "import pandas as pd\n",
    "from scipy.io import loadmat\n",
    "import matplotlib.pyplot as plt"
   ]
  },
  {
   "cell_type": "code",
   "execution_count": 203,
   "id": "4d439ee3",
   "metadata": {},
   "outputs": [],
   "source": [
    "#loading dataset\n",
    "data = loadmat('ex5data1.mat')"
   ]
  },
  {
   "cell_type": "code",
   "execution_count": 204,
   "id": "9266d6df",
   "metadata": {},
   "outputs": [
    {
     "data": {
      "text/plain": [
       "{'__header__': b'MATLAB 5.0 MAT-file, Platform: GLNXA64, Created on: Fri Nov  4 22:27:26 2011',\n",
       " '__version__': '1.0',\n",
       " '__globals__': [],\n",
       " 'X': array([[-15.93675813],\n",
       "        [-29.15297922],\n",
       "        [ 36.18954863],\n",
       "        [ 37.49218733],\n",
       "        [-48.05882945],\n",
       "        [ -8.94145794],\n",
       "        [ 15.30779289],\n",
       "        [-34.70626581],\n",
       "        [  1.38915437],\n",
       "        [-44.38375985],\n",
       "        [  7.01350208],\n",
       "        [ 22.76274892]]),\n",
       " 'y': array([[ 2.13431051],\n",
       "        [ 1.17325668],\n",
       "        [34.35910918],\n",
       "        [36.83795516],\n",
       "        [ 2.80896507],\n",
       "        [ 2.12107248],\n",
       "        [14.71026831],\n",
       "        [ 2.61418439],\n",
       "        [ 3.74017167],\n",
       "        [ 3.73169131],\n",
       "        [ 7.62765885],\n",
       "        [22.7524283 ]]),\n",
       " 'Xtest': array([[-33.31800399],\n",
       "        [-37.91216403],\n",
       "        [-51.20693795],\n",
       "        [ -6.13259585],\n",
       "        [ 21.26118327],\n",
       "        [-40.31952949],\n",
       "        [-14.54153167],\n",
       "        [ 32.55976024],\n",
       "        [ 13.39343255],\n",
       "        [ 44.20988595],\n",
       "        [ -1.14267768],\n",
       "        [-12.76686065],\n",
       "        [ 34.05450539],\n",
       "        [ 39.22350028],\n",
       "        [  1.97449674],\n",
       "        [ 29.6217551 ],\n",
       "        [-23.66962971],\n",
       "        [ -9.01180139],\n",
       "        [-55.94057091],\n",
       "        [-35.70859752],\n",
       "        [  9.51020533]]),\n",
       " 'ytest': array([[ 3.31688953],\n",
       "        [ 5.39768952],\n",
       "        [ 0.13042984],\n",
       "        [ 6.1925982 ],\n",
       "        [17.08848712],\n",
       "        [ 0.79950805],\n",
       "        [ 2.82479183],\n",
       "        [28.62123334],\n",
       "        [17.04639081],\n",
       "        [55.38437334],\n",
       "        [ 4.07936733],\n",
       "        [ 8.27039793],\n",
       "        [31.32355102],\n",
       "        [39.15906103],\n",
       "        [ 8.08727989],\n",
       "        [24.11134389],\n",
       "        [ 2.4773548 ],\n",
       "        [ 6.56606472],\n",
       "        [ 6.0380888 ],\n",
       "        [ 4.69273956],\n",
       "        [10.83004606]]),\n",
       " 'Xval': array([[-16.74653578],\n",
       "        [-14.57747075],\n",
       "        [ 34.51575866],\n",
       "        [-47.01007574],\n",
       "        [ 36.97511905],\n",
       "        [-40.68611002],\n",
       "        [ -4.47201098],\n",
       "        [ 26.53363489],\n",
       "        [-42.7976831 ],\n",
       "        [ 25.37409938],\n",
       "        [-31.10955398],\n",
       "        [ 27.31176864],\n",
       "        [ -3.26386201],\n",
       "        [ -1.81827649],\n",
       "        [-40.7196624 ],\n",
       "        [-50.01324365],\n",
       "        [-17.41177155],\n",
       "        [  3.5881937 ],\n",
       "        [  7.08548026],\n",
       "        [ 46.28236902],\n",
       "        [ 14.61228909]]),\n",
       " 'yval': array([[ 4.17020201e+00],\n",
       "        [ 4.06726280e+00],\n",
       "        [ 3.18730676e+01],\n",
       "        [ 1.06236562e+01],\n",
       "        [ 3.18360213e+01],\n",
       "        [ 4.95936972e+00],\n",
       "        [ 4.45159880e+00],\n",
       "        [ 2.22763185e+01],\n",
       "        [-4.38738274e-05],\n",
       "        [ 2.05038016e+01],\n",
       "        [ 3.85834476e+00],\n",
       "        [ 1.93650529e+01],\n",
       "        [ 4.88376281e+00],\n",
       "        [ 1.10971588e+01],\n",
       "        [ 7.46170827e+00],\n",
       "        [ 1.47693464e+00],\n",
       "        [ 2.71916388e+00],\n",
       "        [ 1.09269007e+01],\n",
       "        [ 8.34871235e+00],\n",
       "        [ 5.27819280e+01],\n",
       "        [ 1.33573396e+01]])}"
      ]
     },
     "execution_count": 204,
     "metadata": {},
     "output_type": "execute_result"
    }
   ],
   "source": [
    "data"
   ]
  },
  {
   "cell_type": "code",
   "execution_count": 205,
   "id": "c54b9835",
   "metadata": {},
   "outputs": [],
   "source": [
    "#training dataset\n",
    "X = data['X']\n",
    "y = data['y']\n",
    "#cross validation dataset\n",
    "Xval = data['Xval']\n",
    "yval = data['yval']\n",
    "#testing dataset\n",
    "Xtest = data['Xtest']\n",
    "ytest = data['ytest']"
   ]
  },
  {
   "cell_type": "code",
   "execution_count": 206,
   "id": "b557e3af",
   "metadata": {},
   "outputs": [
    {
     "data": {
      "text/plain": [
       "(12, 1)"
      ]
     },
     "execution_count": 206,
     "metadata": {},
     "output_type": "execute_result"
    }
   ],
   "source": [
    "X.shape"
   ]
  },
  {
   "cell_type": "code",
   "execution_count": 207,
   "id": "f823e08b",
   "metadata": {},
   "outputs": [
    {
     "data": {
      "text/plain": [
       "(12, 1)"
      ]
     },
     "execution_count": 207,
     "metadata": {},
     "output_type": "execute_result"
    }
   ],
   "source": [
    "y.shape"
   ]
  },
  {
   "cell_type": "code",
   "execution_count": 208,
   "id": "f531746a",
   "metadata": {},
   "outputs": [
    {
     "data": {
      "image/png": "[encoded data removed]",
      "text/plain": [
       "<Figure size 576x432 with 1 Axes>"
      ]
     },
     "metadata": {
      "needs_background": "light"
     },
     "output_type": "display_data"
    }
   ],
   "source": [
    "#display training dataset\n",
    "plt.figure(figsize=(8,6))\n",
    "plt.scatter(X, y, c='red', marker='x')\n",
    "plt.xlabel(\"Change in water level (X)\")\n",
    "plt.ylabel(\"Water flowing out of the dam (y)\")\n",
    "plt.show()"
   ]
  },
  {
   "cell_type": "markdown",
   "id": "4c43eb73",
   "metadata": {},
   "source": [
    "## 1.2 Regularized linear regression cost function and gradient"
   ]
  },
  {
   "cell_type": "code",
   "execution_count": 209,
   "id": "49ea3f4c",
   "metadata": {},
   "outputs": [],
   "source": [
    "theta = np.ones((2))"
   ]
  },
  {
   "cell_type": "code",
   "execution_count": 210,
   "id": "c5cccc73",
   "metadata": {},
   "outputs": [
    {
     "data": {
      "text/plain": [
       "(2,)"
      ]
     },
     "execution_count": 210,
     "metadata": {},
     "output_type": "execute_result"
    }
   ],
   "source": [
    "theta.shape"
   ]
  },
  {
   "cell_type": "code",
   "execution_count": 211,
   "id": "f44dc485",
   "metadata": {},
   "outputs": [],
   "source": [
    "lamb = 1"
   ]
  },
  {
   "cell_type": "code",
   "execution_count": 212,
   "id": "f7a246a9",
   "metadata": {},
   "outputs": [],
   "source": [
    "def linearRegCostFunction(X, y, theta, lamb):\n",
    "    #number of samples\n",
    "    m = X.shape[0]\n",
    "    J = 0\n",
    "    \n",
    "    #add ones column into X\n",
    "    X = np.append(np.ones((m, 1)), X, axis=1)\n",
    "    #reshape theta\n",
    "    theta = theta.reshape(X.shape[1], 1)\n",
    "    \n",
    "    #compute hypothesis\n",
    "    hypothesis = np.dot(X, theta)\n",
    "    #compute cost\n",
    "    J = (1 / (2 * m)) * np.sum(np.square(hypothesis - y)) + (lamb / (2 * m)) * (np.sum(np.square(theta[1:])))\n",
    "    #compute gradient\n",
    "    grad = (1 / m) * np.dot(X.transpose(), (hypothesis - y)) + np.append(np.zeros((1, 1)), (lamb / m) * theta[1:], axis=0)\n",
    "    \n",
    "    return J, grad.flatten()"
   ]
  },
  {
   "cell_type": "code",
   "execution_count": 213,
   "id": "4b933a16",
   "metadata": {},
   "outputs": [],
   "source": [
    "J, grad = linearRegCostFunction(X, y, theta, lamb)"
   ]
  },
  {
   "cell_type": "code",
   "execution_count": 214,
   "id": "bfd99f47",
   "metadata": {},
   "outputs": [
    {
     "name": "stdout",
     "output_type": "stream",
     "text": [
      "Cost at theta = [1; 1]:  303.9931922202643\n",
      "(this value should be about 303.993192)\n"
     ]
    }
   ],
   "source": [
    "print(\"Cost at theta = [1; 1]: \", J)\n",
    "print(\"(this value should be about 303.993192)\")"
   ]
  },
  {
   "cell_type": "code",
   "execution_count": 215,
   "id": "03c0e3e0",
   "metadata": {},
   "outputs": [
    {
     "name": "stdout",
     "output_type": "stream",
     "text": [
      "Gradient at theta = [1; 1]:  [-15.30301567 598.25074417]\n",
      "(this value should be about [-15.303016; 598.250744])\n"
     ]
    }
   ],
   "source": [
    "print(\"Gradient at theta = [1; 1]: \", grad)\n",
    "print(\"(this value should be about [-15.303016; 598.250744])\")"
   ]
  },
  {
   "cell_type": "markdown",
   "id": "4901b302",
   "metadata": {},
   "source": [
    "## 1.3 Fitting linear regression"
   ]
  },
  {
   "cell_type": "code",
   "execution_count": 216,
   "id": "947407bb",
   "metadata": {},
   "outputs": [],
   "source": [
    "def predictFunction(X, theta):\n",
    "    m = X.shape[0]\n",
    "    X = np.append(np.ones((m, 1)), X, axis=1)\n",
    "    predictions = np.dot(X, theta.reshape(X.shape[1], 1))\n",
    "    return predictions"
   ]
  },
  {
   "cell_type": "markdown",
   "id": "55fdbec3",
   "metadata": {},
   "source": [
    "### 1.3.1 Gradient Descent Function"
   ]
  },
  {
   "cell_type": "code",
   "execution_count": 217,
   "id": "edca517a",
   "metadata": {},
   "outputs": [],
   "source": [
    "def gradientDescent(X, y, theta, alpha, lamb, num_iters):\n",
    "    J = []\n",
    "    for iter in range(num_iters):\n",
    "        #compute cost and gradient\n",
    "        cost, grad = linearRegCostFunction(X, y, theta, lamb)\n",
    "        #adding cost into J list\n",
    "        J.append(cost)\n",
    "        #update theta\n",
    "        theta = theta - alpha * grad\n",
    "    \n",
    "    return J, theta"
   ]
  },
  {
   "cell_type": "code",
   "execution_count": 218,
   "id": "284ffcec",
   "metadata": {},
   "outputs": [],
   "source": [
    "alpha = 0.0001\n",
    "lamb = 0\n",
    "num_iters = 100000\n",
    "theta = np.zeros((2))"
   ]
  },
  {
   "cell_type": "code",
   "execution_count": 219,
   "id": "e432c3c4",
   "metadata": {},
   "outputs": [],
   "source": [
    "J, theta = gradientDescent(X, y, theta, alpha, lamb, num_iters)"
   ]
  },
  {
   "cell_type": "code",
   "execution_count": 220,
   "id": "e560d782",
   "metadata": {},
   "outputs": [
    {
     "data": {
      "text/plain": [
       "array([13.08709769,  0.3677744 ])"
      ]
     },
     "execution_count": 220,
     "metadata": {},
     "output_type": "execute_result"
    }
   ],
   "source": [
    "theta"
   ]
  },
  {
   "cell_type": "code",
   "execution_count": 221,
   "id": "371c0822",
   "metadata": {},
   "outputs": [
    {
     "data": {
      "text/plain": [
       "22.37390680994911"
      ]
     },
     "execution_count": 221,
     "metadata": {},
     "output_type": "execute_result"
    }
   ],
   "source": [
    "J[len(J)-1]"
   ]
  },
  {
   "cell_type": "code",
   "execution_count": 222,
   "id": "f31333d8",
   "metadata": {},
   "outputs": [
    {
     "data": {
      "image/png": "[encoded data removed]",
      "text/plain": [
       "<Figure size 432x288 with 1 Axes>"
      ]
     },
     "metadata": {
      "needs_background": "light"
     },
     "output_type": "display_data"
    }
   ],
   "source": [
    "#display error\n",
    "plt.plot(J)\n",
    "plt.xlabel(\"Number of iterations\")\n",
    "plt.ylabel(\"Error\")\n",
    "plt.show()"
   ]
  },
  {
   "cell_type": "code",
   "execution_count": 223,
   "id": "3d3b7408",
   "metadata": {},
   "outputs": [],
   "source": [
    "predictions = predictFunction(X, theta)"
   ]
  },
  {
   "cell_type": "code",
   "execution_count": 224,
   "id": "6e1ca171",
   "metadata": {},
   "outputs": [
    {
     "data": {
      "image/png": "[encoded data removed]",
      "text/plain": [
       "<Figure size 576x432 with 1 Axes>"
      ]
     },
     "metadata": {
      "needs_background": "light"
     },
     "output_type": "display_data"
    }
   ],
   "source": [
    "#display training dataset\n",
    "plt.figure(figsize=(8,6))\n",
    "plt.scatter(X, y, c='red', marker='x')\n",
    "plt.plot(X, predictions, c='blue')\n",
    "plt.xlabel(\"Change in water level (X)\")\n",
    "plt.ylabel(\"Water flowing out of the dam (y)\")\n",
    "plt.show()"
   ]
  },
  {
   "cell_type": "markdown",
   "id": "821f0847",
   "metadata": {},
   "source": [
    "### 1.3.2 scipy.optimize.minimize"
   ]
  },
  {
   "cell_type": "code",
   "execution_count": 225,
   "id": "1f15ac1e",
   "metadata": {},
   "outputs": [],
   "source": [
    "import scipy.optimize as op"
   ]
  },
  {
   "cell_type": "code",
   "execution_count": 226,
   "id": "2829d18c",
   "metadata": {},
   "outputs": [],
   "source": [
    "def trainingLinearReg(X, y, lamb):\n",
    "    options = {'maxiter': 15}\n",
    "    theta = np.zeros((X.shape[1] + 1, 1))\n",
    "    #create \"short hand\" for the cost function to be minimized\n",
    "    costFunction = lambda p: linearRegCostFunction(X, y, p, lamb)\n",
    "    optimization = op.minimize(costFunction, theta.flatten(), jac=True, method='CG', options=options)\n",
    "    theta = optimization.x\n",
    "    \n",
    "    return theta"
   ]
  },
  {
   "cell_type": "code",
   "execution_count": 227,
   "id": "45050c55",
   "metadata": {},
   "outputs": [],
   "source": [
    "options = {'maxiter': 15}\n",
    "lamb = 0\n",
    "theta = np.zeros((2, 1))\n",
    "#create \"short hand\" for the cost function to be minimized\n",
    "costFunction = lambda p: linearRegCostFunction(X, y, p, lamb)"
   ]
  },
  {
   "cell_type": "code",
   "execution_count": 228,
   "id": "e67ad7d2",
   "metadata": {},
   "outputs": [],
   "source": [
    "optimization = op.minimize(costFunction, theta.flatten(), jac=True, method='CG', options=options)"
   ]
  },
  {
   "cell_type": "code",
   "execution_count": 229,
   "id": "a2d6e6b0",
   "metadata": {},
   "outputs": [
    {
     "data": {
      "text/plain": [
       "     fun: 22.373906495108905\n",
       "     jac: array([6.95739762e-15, 6.13297069e-14])\n",
       " message: 'Optimization terminated successfully.'\n",
       "    nfev: 5\n",
       "     nit: 2\n",
       "    njev: 5\n",
       "  status: 0\n",
       " success: True\n",
       "       x: array([13.08790351,  0.36777923])"
      ]
     },
     "execution_count": 229,
     "metadata": {},
     "output_type": "execute_result"
    }
   ],
   "source": [
    "optimization"
   ]
  },
  {
   "cell_type": "code",
   "execution_count": 230,
   "id": "4615d823",
   "metadata": {},
   "outputs": [],
   "source": [
    "predictions = predictFunction(X, optimization.x)"
   ]
  },
  {
   "cell_type": "code",
   "execution_count": 231,
   "id": "68166f3a",
   "metadata": {},
   "outputs": [
    {
     "data": {
      "image/png": "[encoded data removed]",
      "text/plain": [
       "<Figure size 576x432 with 1 Axes>"
      ]
     },
     "metadata": {
      "needs_background": "light"
     },
     "output_type": "display_data"
    }
   ],
   "source": [
    "#display training dataset\n",
    "plt.figure(figsize=(8,6))\n",
    "plt.scatter(X, y, c='red', marker='x', linestyle='None')\n",
    "plt.plot(X, predictions, c=\"blue\")\n",
    "plt.xlabel(\"Change in water level (X)\")\n",
    "plt.ylabel(\"Water flowing out of the dam (y)\")\n",
    "plt.show()"
   ]
  },
  {
   "cell_type": "markdown",
   "id": "84c3e504",
   "metadata": {},
   "source": [
    "# 2 Bias-variance\n"
   ]
  },
  {
   "cell_type": "markdown",
   "id": "bb5f8ed9",
   "metadata": {},
   "source": [
    "## 2.1 Learning curves"
   ]
  },
  {
   "cell_type": "code",
   "execution_count": 232,
   "id": "db66c24e",
   "metadata": {},
   "outputs": [],
   "source": [
    "lamb = 0"
   ]
  },
  {
   "cell_type": "code",
   "execution_count": 233,
   "id": "d8d8d9a4",
   "metadata": {},
   "outputs": [],
   "source": [
    "def learningCurve(X, y, Xval, yval, lamb):\n",
    "    #Number of training example\n",
    "    m = X.shape[0]\n",
    "    error_train = []\n",
    "    error_val = []\n",
    "    \n",
    "    for i in range(1, m + 1):\n",
    "        Xtrain = X[0:i]\n",
    "        ytrain = y[0:i]\n",
    "        \n",
    "        theta = trainingLinearReg(Xtrain, ytrain, lamb)\n",
    "        \n",
    "        cost_train, grad_train = linearRegCostFunction(Xtrain, ytrain, theta, lamb)\n",
    "        cost_val, grad_val = linearRegCostFunction(Xval, yval, theta, lamb)\n",
    "        \n",
    "        error_train.append(cost_train)\n",
    "        error_val.append(cost_val)\n",
    "        \n",
    "    return error_train, error_val"
   ]
  },
  {
   "cell_type": "code",
   "execution_count": 234,
   "id": "f0b16ea3",
   "metadata": {},
   "outputs": [],
   "source": [
    "error_train, error_val = learningCurve(X, y, Xval, yval, lamb)"
   ]
  },
  {
   "cell_type": "code",
   "execution_count": 235,
   "id": "b94154fd",
   "metadata": {},
   "outputs": [
    {
     "data": {
      "image/png": "[encoded data removed]",
      "text/plain": [
       "<Figure size 576x432 with 1 Axes>"
      ]
     },
     "metadata": {
      "needs_background": "light"
     },
     "output_type": "display_data"
    }
   ],
   "source": [
    "plt.figure(figsize=(8, 6))\n",
    "plt.plot(error_train, c='blue')\n",
    "plt.plot(error_val, c='green')\n",
    "plt.xlabel(\"Number of training examples\")\n",
    "plt.ylabel(\"Error\")\n",
    "plt.legend([\"Train\", \"Cross Validation\"])\n",
    "plt.show()"
   ]
  },
  {
   "cell_type": "markdown",
   "id": "e7586189",
   "metadata": {},
   "source": [
    "# 3 Polynomial regression"
   ]
  },
  {
   "cell_type": "code",
   "execution_count": 236,
   "id": "a33b4a9f",
   "metadata": {},
   "outputs": [],
   "source": [
    "def polyFeatures(X, p):\n",
    "    \n",
    "    X_poly = X\n",
    "    \n",
    "    for i in range(2, p + 1):\n",
    "        X_poly = np.append(X_poly, np.power(X, i), axis=1)\n",
    "\n",
    "    return X_poly"
   ]
  },
  {
   "cell_type": "code",
   "execution_count": 237,
   "id": "8fc67814",
   "metadata": {},
   "outputs": [],
   "source": [
    "def featureNormalize(X):\n",
    "    #Normalized X\n",
    "    X_norm = X\n",
    "    #Calculate mean value\n",
    "    mu = np.mean(X, axis=0)\n",
    "    #Calculate Standard deviation\n",
    "    sigma = np.std(X, axis=0)\n",
    "    #Calculate normalized X\n",
    "    X_norm = (X_norm - mu) / sigma\n",
    "    \n",
    "    return X_norm, mu, sigma"
   ]
  },
  {
   "cell_type": "code",
   "execution_count": 238,
   "id": "dba947b5",
   "metadata": {},
   "outputs": [],
   "source": [
    "p = 8"
   ]
  },
  {
   "cell_type": "code",
   "execution_count": 239,
   "id": "acedeb10",
   "metadata": {},
   "outputs": [],
   "source": [
    "#Map X onto Polynomial Features and Normalize\n",
    "X_poly = polyFeatures(X, p) #feature mapping\n",
    "X_poly, mu, sigma = featureNormalize(X_poly) #Normalize"
   ]
  },
  {
   "cell_type": "code",
   "execution_count": 240,
   "id": "fb0c20bc",
   "metadata": {},
   "outputs": [],
   "source": [
    "#Map X_poly_val and normalize (using mu and sigma)\n",
    "X_poly_val = polyFeatures(Xval, p) #feature mapping\n",
    "X_poly_val = (X_poly_val - mu) / sigma"
   ]
  },
  {
   "cell_type": "code",
   "execution_count": 241,
   "id": "b16cf399",
   "metadata": {},
   "outputs": [],
   "source": [
    "#Map X_poly_test and normalize (using mu and sigma)\n",
    "X_poly_test = polyFeatures(Xtest, p) #feature mapping\n",
    "X_poly_test = (X_poly_test - mu) / sigma"
   ]
  },
  {
   "cell_type": "markdown",
   "id": "42dc7c44",
   "metadata": {},
   "source": [
    "## 3.1 Learning Polynomial Regression\n"
   ]
  },
  {
   "cell_type": "code",
   "execution_count": 242,
   "id": "074c30e7",
   "metadata": {},
   "outputs": [],
   "source": [
    "lamb = 0\n",
    "p = 8"
   ]
  },
  {
   "cell_type": "code",
   "execution_count": 243,
   "id": "9b45f7b8",
   "metadata": {},
   "outputs": [],
   "source": [
    "theta = trainingLinearReg(X_poly, y, lamb)"
   ]
  },
  {
   "cell_type": "code",
   "execution_count": 244,
   "id": "21288b01",
   "metadata": {},
   "outputs": [
    {
     "data": {
      "text/plain": [
       "array([11.24059371, 12.5350093 ,  8.19774802,  1.11783957,  0.87747011,\n",
       "       -0.89185718, -1.04217148, -0.24757658, -1.82340535])"
      ]
     },
     "execution_count": 244,
     "metadata": {},
     "output_type": "execute_result"
    }
   ],
   "source": [
    "theta"
   ]
  },
  {
   "cell_type": "code",
   "execution_count": 245,
   "id": "617d557b",
   "metadata": {},
   "outputs": [],
   "source": [
    "def plotFit(min_x, max_x, mu, sigma, theta, p):\n",
    "    #We plot a range slightly bigger than the min and max values to get\n",
    "    #an idea of how the fit will vary outside the range of the data points\n",
    "    x = np.arange(min_x - 15, max_x + 25, 0.05)\n",
    "    x = x.reshape(len(x), 1)\n",
    "\n",
    "    #Map the X values\n",
    "    X_poly = polyFeatures(x, p)\n",
    "    X_poly = (X_poly - mu) / sigma\n",
    "    \n",
    "    #compute predictions\n",
    "    predictions = predictFunction(X_poly, theta)\n",
    "    #plot\n",
    "    plt.scatter(x, predictions, c='blue', marker='.', linewidths=0.1, )"
   ]
  },
  {
   "cell_type": "code",
   "execution_count": 246,
   "id": "beb0b089",
   "metadata": {},
   "outputs": [
    {
     "data": {
      "image/png": "[encoded data removed]",
      "text/plain": [
       "<Figure size 576x432 with 1 Axes>"
      ]
     },
     "metadata": {
      "needs_background": "light"
     },
     "output_type": "display_data"
    }
   ],
   "source": [
    "#plot training data\n",
    "plt.figure(figsize=(8, 6))\n",
    "plotFit(min(X), max(X), mu, sigma, theta, p)\n",
    "plt.scatter(X, y, c='red', marker='x')\n",
    "plt.xlabel(\"Change in water level (X)\")\n",
    "plt.ylabel(\"Water flowing out of the dam (y)\")\n",
    "plt.show()"
   ]
  },
  {
   "cell_type": "code",
   "execution_count": 247,
   "id": "00b65136",
   "metadata": {},
   "outputs": [],
   "source": [
    "error_train, error_val = learningCurve(X_poly, y, X_poly_val, yval, lamb)"
   ]
  },
  {
   "cell_type": "code",
   "execution_count": 248,
   "id": "711687cc",
   "metadata": {},
   "outputs": [
    {
     "data": {
      "image/png": "[encoded data removed]",
      "text/plain": [
       "<Figure size 576x432 with 1 Axes>"
      ]
     },
     "metadata": {
      "needs_background": "light"
     },
     "output_type": "display_data"
    }
   ],
   "source": [
    "plt.figure(figsize=(8, 6))\n",
    "plt.plot(error_train, c='blue')\n",
    "plt.plot(error_val, c='green')\n",
    "plt.xlabel(\"Number of training examples\")\n",
    "plt.ylabel(\"Error\")\n",
    "plt.legend([\"Train\", 'Cross Validation'])\n",
    "plt.show()"
   ]
  },
  {
   "cell_type": "markdown",
   "id": "3e5a25ad",
   "metadata": {},
   "source": [
    "## 3.2  Selecting λ using a cross validation set"
   ]
  },
  {
   "cell_type": "code",
   "execution_count": 249,
   "id": "bbf6140e",
   "metadata": {},
   "outputs": [],
   "source": [
    "def validationCurve(X, y, Xval, yval, lambda_vec):\n",
    "    error_train_vec = []\n",
    "    error_val_vec = []\n",
    "    \n",
    "    for i in range(len(lambda_vec)):\n",
    "        theta = trainingLinearReg(X, y, lambda_vec[i])\n",
    "        \n",
    "        #compute cost for training data\n",
    "        error_train, grad_train = linearRegCostFunction(X, y, theta, lambda_vec[i])\n",
    "        #compute cost for cross validation data\n",
    "        error_val, grad_val = linearRegCostFunction(Xval, yval, theta, lambda_vec[i])\n",
    "        \n",
    "        #add error into error_train_vec and error_val_vec\n",
    "        error_train_vec.append(error_train)\n",
    "        error_val_vec.append(error_val)\n",
    "        \n",
    "    return error_train_vec, error_val_vec"
   ]
  },
  {
   "cell_type": "code",
   "execution_count": 250,
   "id": "92054b38",
   "metadata": {},
   "outputs": [],
   "source": [
    "lambda_vec = [0, 0.001, 0.003, 0.01, 0.03, 0.1, 0.3, 1, 3, 10]"
   ]
  },
  {
   "cell_type": "code",
   "execution_count": 251,
   "id": "4a4f8d66",
   "metadata": {},
   "outputs": [],
   "source": [
    "error_train_vec, error_val_vec = validationCurve(X_poly, y, X_poly_val, yval, lambda_vec)"
   ]
  },
  {
   "cell_type": "code",
   "execution_count": 252,
   "id": "c87da398",
   "metadata": {},
   "outputs": [
    {
     "data": {
      "image/png": "[encoded data removed]",
      "text/plain": [
       "<Figure size 576x432 with 1 Axes>"
      ]
     },
     "metadata": {
      "needs_background": "light"
     },
     "output_type": "display_data"
    }
   ],
   "source": [
    "plt.figure(figsize=(8, 6))\n",
    "plt.plot(lambda_vec, error_train_vec, c='blue')\n",
    "plt.plot(lambda_vec, error_val_vec, c='green')\n",
    "plt.legend(['Train', 'Cross Validation'])\n",
    "plt.show()"
   ]
  },
  {
   "cell_type": "markdown",
   "id": "1b7f659b",
   "metadata": {},
   "source": [
    "## 3.4 Computing test set error"
   ]
  },
  {
   "cell_type": "code",
   "execution_count": 290,
   "id": "50edce6d",
   "metadata": {},
   "outputs": [],
   "source": [
    "lamb = 1"
   ]
  },
  {
   "cell_type": "code",
   "execution_count": 291,
   "id": "8744a4f8",
   "metadata": {},
   "outputs": [],
   "source": [
    "final_theta = trainingLinearReg(X_poly, y, lamb)"
   ]
  },
  {
   "cell_type": "code",
   "execution_count": 294,
   "id": "72f53f2f",
   "metadata": {},
   "outputs": [],
   "source": [
    "Err_test, Grad_test = linearRegCostFunction(X_poly_test, ytest, final_theta, lamb)"
   ]
  },
  {
   "cell_type": "code",
   "execution_count": 295,
   "id": "268042c0",
   "metadata": {},
   "outputs": [
    {
     "name": "stdout",
     "output_type": "stream",
     "text": [
      "Test Error:  5.48493445605877\n"
     ]
    }
   ],
   "source": [
    "print('Test Error: ', Err_test)"
   ]
  },
  {
   "cell_type": "code",
   "execution_count": null,
   "id": "edfa7281",
   "metadata": {},
   "outputs": [],
   "source": []
  }
 ],
 "metadata": {
  "kernelspec": {
   "display_name": "Python 3 (ipykernel)",
   "language": "python",
   "name": "python3"
  },
  "language_info": {
   "codemirror_mode": {
    "name": "ipython",
    "version": 3
   },
   "file_extension": ".py",
   "mimetype": "text/x-python",
   "name": "python",
   "nbconvert_exporter": "python",
   "pygments_lexer": "ipython3",
   "version": "3.9.12"
  }
 },
 "nbformat": 4,
 "nbformat_minor": 5
}
