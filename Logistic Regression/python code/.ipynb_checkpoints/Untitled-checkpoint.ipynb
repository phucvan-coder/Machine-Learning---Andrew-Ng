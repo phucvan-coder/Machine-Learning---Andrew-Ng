{
 "cells": [
  {
   "cell_type": "markdown",
   "id": "4c8f85d4",
   "metadata": {},
   "source": [
    "# 1 Logistic Regression"
   ]
  },
  {
   "cell_type": "markdown",
   "id": "bbd88a58",
   "metadata": {},
   "source": [
    "## 1.1 Visualizing The Data "
   ]
  },
  {
   "cell_type": "code",
   "execution_count": 1,
   "id": "be58b83f",
   "metadata": {},
   "outputs": [],
   "source": [
    "import pandas as pd\n",
    "import numpy as np"
   ]
  },
  {
   "cell_type": "code",
   "execution_count": 2,
   "id": "5c5c92b4",
   "metadata": {},
   "outputs": [],
   "source": [
    "#load dataset\n",
    "data = pd.read_csv(\"ex2data1.txt\", header=None, names=[\"Exam 1 score\", \"Exam 2 score\", \" Chance of admission\"])"
   ]
  },
  {
   "cell_type": "code",
   "execution_count": 3,
   "id": "f427bea3",
   "metadata": {},
   "outputs": [
    {
     "data": {
      "text/html": [
       "<div>\n",
       "<style scoped>\n",
       "    .dataframe tbody tr th:only-of-type {\n",
       "        vertical-align: middle;\n",
       "    }\n",
       "\n",
       "    .dataframe tbody tr th {\n",
       "        vertical-align: top;\n",
       "    }\n",
       "\n",
       "    .dataframe thead th {\n",
       "        text-align: right;\n",
       "    }\n",
       "</style>\n",
       "<table border=\"1\" class=\"dataframe\">\n",
       "  <thead>\n",
       "    <tr style=\"text-align: right;\">\n",
       "      <th></th>\n",
       "      <th>Exam 1 score</th>\n",
       "      <th>Exam 2 score</th>\n",
       "      <th>Chance of admission</th>\n",
       "    </tr>\n",
       "  </thead>\n",
       "  <tbody>\n",
       "    <tr>\n",
       "      <th>0</th>\n",
       "      <td>34.623660</td>\n",
       "      <td>78.024693</td>\n",
       "      <td>0</td>\n",
       "    </tr>\n",
       "    <tr>\n",
       "      <th>1</th>\n",
       "      <td>30.286711</td>\n",
       "      <td>43.894998</td>\n",
       "      <td>0</td>\n",
       "    </tr>\n",
       "    <tr>\n",
       "      <th>2</th>\n",
       "      <td>35.847409</td>\n",
       "      <td>72.902198</td>\n",
       "      <td>0</td>\n",
       "    </tr>\n",
       "    <tr>\n",
       "      <th>3</th>\n",
       "      <td>60.182599</td>\n",
       "      <td>86.308552</td>\n",
       "      <td>1</td>\n",
       "    </tr>\n",
       "    <tr>\n",
       "      <th>4</th>\n",
       "      <td>79.032736</td>\n",
       "      <td>75.344376</td>\n",
       "      <td>1</td>\n",
       "    </tr>\n",
       "  </tbody>\n",
       "</table>\n",
       "</div>"
      ],
      "text/plain": [
       "   Exam 1 score  Exam 2 score   Chance of admission\n",
       "0     34.623660     78.024693                     0\n",
       "1     30.286711     43.894998                     0\n",
       "2     35.847409     72.902198                     0\n",
       "3     60.182599     86.308552                     1\n",
       "4     79.032736     75.344376                     1"
      ]
     },
     "execution_count": 3,
     "metadata": {},
     "output_type": "execute_result"
    }
   ],
   "source": [
    "data.head()"
   ]
  },
  {
   "cell_type": "code",
   "execution_count": 4,
   "id": "a9e35d5a",
   "metadata": {},
   "outputs": [
    {
     "data": {
      "text/plain": [
       "(100, 3)"
      ]
     },
     "execution_count": 4,
     "metadata": {},
     "output_type": "execute_result"
    }
   ],
   "source": [
    "data.shape"
   ]
  },
  {
   "cell_type": "code",
   "execution_count": 5,
   "id": "2275d183",
   "metadata": {},
   "outputs": [
    {
     "data": {
      "text/html": [
       "<div>\n",
       "<style scoped>\n",
       "    .dataframe tbody tr th:only-of-type {\n",
       "        vertical-align: middle;\n",
       "    }\n",
       "\n",
       "    .dataframe tbody tr th {\n",
       "        vertical-align: top;\n",
       "    }\n",
       "\n",
       "    .dataframe thead th {\n",
       "        text-align: right;\n",
       "    }\n",
       "</style>\n",
       "<table border=\"1\" class=\"dataframe\">\n",
       "  <thead>\n",
       "    <tr style=\"text-align: right;\">\n",
       "      <th></th>\n",
       "      <th>Exam 1 score</th>\n",
       "      <th>Exam 2 score</th>\n",
       "      <th>Chance of admission</th>\n",
       "    </tr>\n",
       "  </thead>\n",
       "  <tbody>\n",
       "    <tr>\n",
       "      <th>count</th>\n",
       "      <td>100.000000</td>\n",
       "      <td>100.000000</td>\n",
       "      <td>100.000000</td>\n",
       "    </tr>\n",
       "    <tr>\n",
       "      <th>mean</th>\n",
       "      <td>65.644274</td>\n",
       "      <td>66.221998</td>\n",
       "      <td>0.600000</td>\n",
       "    </tr>\n",
       "    <tr>\n",
       "      <th>std</th>\n",
       "      <td>19.458222</td>\n",
       "      <td>18.582783</td>\n",
       "      <td>0.492366</td>\n",
       "    </tr>\n",
       "    <tr>\n",
       "      <th>min</th>\n",
       "      <td>30.058822</td>\n",
       "      <td>30.603263</td>\n",
       "      <td>0.000000</td>\n",
       "    </tr>\n",
       "    <tr>\n",
       "      <th>25%</th>\n",
       "      <td>50.919511</td>\n",
       "      <td>48.179205</td>\n",
       "      <td>0.000000</td>\n",
       "    </tr>\n",
       "    <tr>\n",
       "      <th>50%</th>\n",
       "      <td>67.032988</td>\n",
       "      <td>67.682381</td>\n",
       "      <td>1.000000</td>\n",
       "    </tr>\n",
       "    <tr>\n",
       "      <th>75%</th>\n",
       "      <td>80.212529</td>\n",
       "      <td>79.360605</td>\n",
       "      <td>1.000000</td>\n",
       "    </tr>\n",
       "    <tr>\n",
       "      <th>max</th>\n",
       "      <td>99.827858</td>\n",
       "      <td>98.869436</td>\n",
       "      <td>1.000000</td>\n",
       "    </tr>\n",
       "  </tbody>\n",
       "</table>\n",
       "</div>"
      ],
      "text/plain": [
       "       Exam 1 score  Exam 2 score   Chance of admission\n",
       "count    100.000000    100.000000            100.000000\n",
       "mean      65.644274     66.221998              0.600000\n",
       "std       19.458222     18.582783              0.492366\n",
       "min       30.058822     30.603263              0.000000\n",
       "25%       50.919511     48.179205              0.000000\n",
       "50%       67.032988     67.682381              1.000000\n",
       "75%       80.212529     79.360605              1.000000\n",
       "max       99.827858     98.869436              1.000000"
      ]
     },
     "execution_count": 5,
     "metadata": {},
     "output_type": "execute_result"
    }
   ],
   "source": [
    "data.describe()"
   ]
  },
  {
   "cell_type": "code",
   "execution_count": 6,
   "id": "85c49b13",
   "metadata": {},
   "outputs": [],
   "source": [
    "X = data.iloc[:, :-1].values"
   ]
  },
  {
   "cell_type": "code",
   "execution_count": 7,
   "id": "3378e68e",
   "metadata": {},
   "outputs": [
    {
     "data": {
      "text/plain": [
       "(100, 2)"
      ]
     },
     "execution_count": 7,
     "metadata": {},
     "output_type": "execute_result"
    }
   ],
   "source": [
    "X.shape"
   ]
  },
  {
   "cell_type": "code",
   "execution_count": 8,
   "id": "142e5323",
   "metadata": {},
   "outputs": [],
   "source": [
    "y = data.iloc[:, -1:].values"
   ]
  },
  {
   "cell_type": "code",
   "execution_count": 9,
   "id": "1d1d9869",
   "metadata": {},
   "outputs": [
    {
     "data": {
      "text/plain": [
       "(100, 1)"
      ]
     },
     "execution_count": 9,
     "metadata": {},
     "output_type": "execute_result"
    }
   ],
   "source": [
    "y.shape"
   ]
  },
  {
   "cell_type": "code",
   "execution_count": 10,
   "id": "6ebd5415",
   "metadata": {},
   "outputs": [
    {
     "data": {
      "image/png": "[encoded data removed]",
      "text/plain": [
       "<Figure size 432x288 with 1 Axes>"
      ]
     },
     "metadata": {
      "needs_background": "light"
     },
     "output_type": "display_data"
    }
   ],
   "source": [
    "#Visualizing the data\n",
    "import matplotlib.pyplot as plt\n",
    "\n",
    "plt.scatter(X[np.where(y == 1), 0], X[np.where(y == 1), 1], c=\"black\", marker=\"+\")\n",
    "plt.scatter(X[np.where(y == 0), 0], X[np.where(y == 0), 1], c=\"yellow\", marker=\"o\")\n",
    "\n",
    "plt.xlabel(\"Exam 1 score\")\n",
    "plt.ylabel(\"Exam 2 score\")\n",
    "\n",
    "plt.legend([\"Admitted\", \"Not Admitted\"])\n",
    "plt.show()"
   ]
  },
  {
   "cell_type": "markdown",
   "id": "ff1cba8a",
   "metadata": {},
   "source": [
    "## 1.2 Implementation"
   ]
  },
  {
   "cell_type": "markdown",
   "id": "eeae9adb",
   "metadata": {},
   "source": [
    "### 1.2.1 Warmup exercise: sigmoid function "
   ]
  },
  {
   "cell_type": "code",
   "execution_count": 11,
   "id": "bdaefd4f",
   "metadata": {},
   "outputs": [],
   "source": [
    "def sigmoid(z):\n",
    "    result = 1 / (1 + np.exp(-z))\n",
    "    return result"
   ]
  },
  {
   "cell_type": "code",
   "execution_count": 12,
   "id": "ebfdce82",
   "metadata": {},
   "outputs": [
    {
     "name": "stdout",
     "output_type": "stream",
     "text": [
      "sigmoid(0) =  0.5\n"
     ]
    }
   ],
   "source": [
    "print(\"sigmoid(0) = \", sigmoid(0))"
   ]
  },
  {
   "cell_type": "code",
   "execution_count": 13,
   "id": "0251b1e4",
   "metadata": {},
   "outputs": [
    {
     "data": {
      "text/plain": [
       "array([4.53978687e-05, 5.00000000e-01, 9.99954602e-01])"
      ]
     },
     "execution_count": 13,
     "metadata": {},
     "output_type": "execute_result"
    }
   ],
   "source": [
    "sigmoid(np.array([-10, 0, 10]))"
   ]
  },
  {
   "cell_type": "markdown",
   "id": "95c28a58",
   "metadata": {},
   "source": [
    "### 1.2.2 Cost Function and Gradient "
   ]
  },
  {
   "cell_type": "code",
   "execution_count": 14,
   "id": "01f87584",
   "metadata": {},
   "outputs": [],
   "source": [
    "# Cost Function\n",
    "def costFunction(theta, X, y):\n",
    "    m = len(y)\n",
    "    J = 0\n",
    "    \n",
    "    #compute z\n",
    "    z = np.dot(X, theta.reshape((3, 1)))\n",
    "    #compute cost\n",
    "    J = (1 / m) * np.sum((-y*np.log(sigmoid(z))) - (1 - y)*np.log(1 - sigmoid(z)))\n",
    "    \n",
    "    return J"
   ]
  },
  {
   "cell_type": "code",
   "execution_count": 15,
   "id": "a2d18790",
   "metadata": {},
   "outputs": [],
   "source": [
    "# Gradient\n",
    "def Gradient(theta, X, y):\n",
    "    m = len(y)\n",
    "    \n",
    "    #compute z\n",
    "    z = np.dot(X, theta.reshape((3, 1)))\n",
    "    #compute cost\n",
    "    grad = (1 / m) * np.dot(X.transpose(), (sigmoid(z) - y))\n",
    "    \n",
    "    return grad.flatten()"
   ]
  },
  {
   "cell_type": "code",
   "execution_count": 16,
   "id": "d0561ef6",
   "metadata": {},
   "outputs": [],
   "source": [
    "#Setup the data matrix appropriately, and add ones for the intercept term\n",
    "m, n = X.shape"
   ]
  },
  {
   "cell_type": "code",
   "execution_count": 17,
   "id": "cbe2d4c3",
   "metadata": {},
   "outputs": [
    {
     "data": {
      "text/plain": [
       "100"
      ]
     },
     "execution_count": 17,
     "metadata": {},
     "output_type": "execute_result"
    }
   ],
   "source": [
    "m"
   ]
  },
  {
   "cell_type": "code",
   "execution_count": 18,
   "id": "9675b75b",
   "metadata": {},
   "outputs": [
    {
     "data": {
      "text/plain": [
       "2"
      ]
     },
     "execution_count": 18,
     "metadata": {},
     "output_type": "execute_result"
    }
   ],
   "source": [
    "n"
   ]
  },
  {
   "cell_type": "code",
   "execution_count": 19,
   "id": "4047ad56",
   "metadata": {},
   "outputs": [],
   "source": [
    "X = np.append(np.ones((m, 1)), X, axis=1)"
   ]
  },
  {
   "cell_type": "code",
   "execution_count": 20,
   "id": "b66a5a15",
   "metadata": {},
   "outputs": [
    {
     "data": {
      "text/plain": [
       "(100, 3)"
      ]
     },
     "execution_count": 20,
     "metadata": {},
     "output_type": "execute_result"
    }
   ],
   "source": [
    "X.shape"
   ]
  },
  {
   "cell_type": "code",
   "execution_count": 21,
   "id": "f4f83e38",
   "metadata": {},
   "outputs": [
    {
     "data": {
      "text/plain": [
       "array([0., 0., 0.])"
      ]
     },
     "execution_count": 21,
     "metadata": {},
     "output_type": "execute_result"
    }
   ],
   "source": [
    "#initialize fitting parameters\n",
    "initial_theta = np.zeros(n+1)\n",
    "initial_theta"
   ]
  },
  {
   "cell_type": "code",
   "execution_count": 22,
   "id": "c034064d",
   "metadata": {},
   "outputs": [],
   "source": [
    "#Compute and display initial cost and gradient\n",
    "cost = costFunction(initial_theta, X, y)\n",
    "grad = Gradient(initial_theta, X, y)"
   ]
  },
  {
   "cell_type": "code",
   "execution_count": 23,
   "id": "4e59be6c",
   "metadata": {},
   "outputs": [
    {
     "name": "stdout",
     "output_type": "stream",
     "text": [
      "Cost at initial theta (zeros):  0.6931471805599453\n",
      "Expected cost (approx): 0.693\n",
      "Gradient at initial theta (zeros):  [ -0.1        -12.00921659 -11.26284221]\n",
      "Expected gradients (approx):\n",
      " -0.1000\n",
      " -12.0092\n",
      " -11.2628\n",
      "\n"
     ]
    }
   ],
   "source": [
    "print('Cost at initial theta (zeros): ', cost);\n",
    "print('Expected cost (approx): 0.693');\n",
    "print('Gradient at initial theta (zeros): ', grad);\n",
    "print('Expected gradients (approx):\\n -0.1000\\n -12.0092\\n -11.2628\\n');\n"
   ]
  },
  {
   "cell_type": "code",
   "execution_count": 24,
   "id": "298beb29",
   "metadata": {},
   "outputs": [],
   "source": [
    "#Compute and display cost and gradient with non-zero theta\n",
    "test_theta = np.array([-24, 0.2, 0.2])\n",
    "cost = costFunction(test_theta, X, y)\n",
    "grad = Gradient(test_theta, X, y)"
   ]
  },
  {
   "cell_type": "code",
   "execution_count": 25,
   "id": "055c435b",
   "metadata": {},
   "outputs": [
    {
     "name": "stdout",
     "output_type": "stream",
     "text": [
      "Cost at test theta:  0.21833019382659788\n",
      "Expected cost (approx): 0.218\n",
      "Gradient at initial theta (zeros):  [0.04290299 2.56623412 2.64679737]\n",
      "Expected gradients (approx):\n",
      " 0.043\n",
      " 2.566\n",
      " 2.647\n",
      "\n"
     ]
    }
   ],
   "source": [
    "print('Cost at test theta: ', cost);\n",
    "print('Expected cost (approx): 0.218');\n",
    "print('Gradient at initial theta (zeros): ', grad);\n",
    "print('Expected gradients (approx):\\n 0.043\\n 2.566\\n 2.647\\n');"
   ]
  },
  {
   "cell_type": "markdown",
   "id": "f103aad9",
   "metadata": {},
   "source": [
    "### 1.2.3 Learning parameters "
   ]
  },
  {
   "cell_type": "code",
   "execution_count": 26,
   "id": "82259082",
   "metadata": {},
   "outputs": [],
   "source": [
    "#using minimize function from scipy library\n",
    "import scipy.optimize as op"
   ]
  },
  {
   "cell_type": "code",
   "execution_count": 27,
   "id": "0a1b7948",
   "metadata": {},
   "outputs": [
    {
     "name": "stderr",
     "output_type": "stream",
     "text": [
      "C:\\Users\\lenovo\\AppData\\Local\\Temp\\ipykernel_8996\\3585060446.py:9: RuntimeWarning: divide by zero encountered in log\n",
      "  J = (1 / m) * np.sum((-y*np.log(sigmoid(z))) - (1 - y)*np.log(1 - sigmoid(z)))\n",
      "C:\\Users\\lenovo\\AppData\\Local\\Temp\\ipykernel_8996\\3585060446.py:9: RuntimeWarning: invalid value encountered in multiply\n",
      "  J = (1 / m) * np.sum((-y*np.log(sigmoid(z))) - (1 - y)*np.log(1 - sigmoid(z)))\n"
     ]
    }
   ],
   "source": [
    "optimization = op.minimize(fun=costFunction, x0=initial_theta, args=(X, y), method='CG', jac=Gradient)"
   ]
  },
  {
   "cell_type": "code",
   "execution_count": 28,
   "id": "fc8d2818",
   "metadata": {},
   "outputs": [
    {
     "data": {
      "text/plain": [
       "     fun: 0.203497856355157\n",
       "     jac: array([-9.59769712e-06, -8.98352890e-07, -7.83884975e-07])\n",
       " message: 'Optimization terminated successfully.'\n",
       "    nfev: 159\n",
       "     nit: 71\n",
       "    njev: 159\n",
       "  status: 0\n",
       " success: True\n",
       "       x: array([-25.1936119 ,   0.20648991,   0.20173277])"
      ]
     },
     "execution_count": 28,
     "metadata": {},
     "output_type": "execute_result"
    }
   ],
   "source": [
    "optimization"
   ]
  },
  {
   "cell_type": "code",
   "execution_count": 29,
   "id": "8fa8a8cd",
   "metadata": {},
   "outputs": [
    {
     "name": "stdout",
     "output_type": "stream",
     "text": [
      "Cost, at theta after optimizing:  0.203497856355157\n",
      "Expected cost (approx): 0.203\n"
     ]
    }
   ],
   "source": [
    "print('Cost, at theta after optimizing: ', optimization.fun)\n",
    "print('Expected cost (approx): 0.203')"
   ]
  },
  {
   "cell_type": "code",
   "execution_count": 30,
   "id": "480acb2f",
   "metadata": {},
   "outputs": [
    {
     "name": "stdout",
     "output_type": "stream",
     "text": [
      "Theta:  [-25.1936119    0.20648991   0.20173277]\n",
      "Expected theta (approx): -25.161, 0.206, 0.201\n"
     ]
    }
   ],
   "source": [
    "print('Theta: ', optimization.x)\n",
    "print('Expected theta (approx): -25.161, 0.206, 0.201')"
   ]
  },
  {
   "cell_type": "markdown",
   "id": "e3bb9d17",
   "metadata": {},
   "source": [
    "### 1.2.4 Evaluating Logistic Regression "
   ]
  },
  {
   "cell_type": "code",
   "execution_count": 31,
   "id": "c49c3934",
   "metadata": {},
   "outputs": [],
   "source": [
    "def predict(theta, X):\n",
    "    #compute z\n",
    "    z = np.dot(X, theta.reshape((3, 1)))\n",
    "    #predicting\n",
    "    prediction = sigmoid(z)\n",
    "    \n",
    "    prediction[prediction >= 0.5] = 1\n",
    "    prediction[prediction < 0.5] = 0\n",
    "    \n",
    "    return prediction"
   ]
  },
  {
   "cell_type": "code",
   "execution_count": 32,
   "id": "d675ddd6",
   "metadata": {},
   "outputs": [],
   "source": [
    "optimized_theta = optimization.x"
   ]
  },
  {
   "cell_type": "code",
   "execution_count": 33,
   "id": "386d9af7",
   "metadata": {},
   "outputs": [
    {
     "data": {
      "text/plain": [
       "array([-25.1936119 ,   0.20648991,   0.20173277])"
      ]
     },
     "execution_count": 33,
     "metadata": {},
     "output_type": "execute_result"
    }
   ],
   "source": [
    "optimized_theta"
   ]
  },
  {
   "cell_type": "code",
   "execution_count": 34,
   "id": "19261675",
   "metadata": {},
   "outputs": [],
   "source": [
    "prediction = predict(optimized_theta, X)"
   ]
  },
  {
   "cell_type": "code",
   "execution_count": 35,
   "id": "e3bb0ded",
   "metadata": {},
   "outputs": [
    {
     "data": {
      "text/plain": [
       "(100, 1)"
      ]
     },
     "execution_count": 35,
     "metadata": {},
     "output_type": "execute_result"
    }
   ],
   "source": [
    "prediction.shape"
   ]
  },
  {
   "cell_type": "markdown",
   "id": "436336e5",
   "metadata": {},
   "source": [
    "### Decision Boundary        "
   ]
  },
  {
   "cell_type": "code",
   "execution_count": 38,
   "id": "6f314c68",
   "metadata": {},
   "outputs": [],
   "source": [
    "def decisionBoundery(theta, X):\n",
    "    #get x1 (include min x1 and max x1)\n",
    "    x1 = np.array([np.min(X[:, 1]), np.max(X[:, 1])])\n",
    "    #calculate x2 (decision boundary: z = b + X*theta = b + X1*theta1 + X2*theta2 = 0)\n",
    "    x2 = -(theta[0] + x1*theta[1]) / theta[2]\n",
    "    \n",
    "    return x1, x2"
   ]
  },
  {
   "cell_type": "code",
   "execution_count": 39,
   "id": "72de8b9c",
   "metadata": {},
   "outputs": [],
   "source": [
    "x1, x2 = decisionBoundery(optimized_theta, X)"
   ]
  },
  {
   "cell_type": "code",
   "execution_count": 40,
   "id": "7aaae060",
   "metadata": {},
   "outputs": [
    {
     "data": {
      "text/plain": [
       "array([30.05882245, 99.8278578 ])"
      ]
     },
     "execution_count": 40,
     "metadata": {},
     "output_type": "execute_result"
    }
   ],
   "source": [
    "x1"
   ]
  },
  {
   "cell_type": "code",
   "execution_count": 41,
   "id": "8cac6bdf",
   "metadata": {},
   "outputs": [
    {
     "data": {
      "text/plain": [
       "array([94.11841367, 22.70412736])"
      ]
     },
     "execution_count": 41,
     "metadata": {},
     "output_type": "execute_result"
    }
   ],
   "source": [
    "x2"
   ]
  },
  {
   "cell_type": "code",
   "execution_count": 51,
   "id": "c2722d73",
   "metadata": {},
   "outputs": [
    {
     "data": {
      "text/plain": [
       "<matplotlib.legend.Legend at 0x2084a718b50>"
      ]
     },
     "execution_count": 51,
     "metadata": {},
     "output_type": "execute_result"
    },
    {
     "data": {
      "image/png": "[encoded data removed]",
      "text/plain": [
       "<Figure size 432x288 with 1 Axes>"
      ]
     },
     "metadata": {
      "needs_background": "light"
     },
     "output_type": "display_data"
    }
   ],
   "source": [
    "plt.scatter(X[np.where(y==1)[0], 1], X[np.where(y==1)[0], 2], c='black', marker='+', label='Exam 1 score')\n",
    "plt.scatter(X[np.where(y==0)[0], 1], X[np.where(y==0)[0], 2], c='yellow', marker='o', label='Exam 2 score')\n",
    "plt.plot(x1, x2, c='blue')\n",
    "plt.xlabel('Exam 1 score')\n",
    "plt.ylabel('Exam 2 score')\n",
    "plt.legend()"
   ]
  },
  {
   "cell_type": "markdown",
   "id": "7aeaa28f",
   "metadata": {},
   "source": [
    "# 2. Regularized Logistic Regression"
   ]
  },
  {
   "cell_type": "code",
   "execution_count": 52,
   "id": "aeac6e30",
   "metadata": {},
   "outputs": [],
   "source": [
    "data = pd.read_csv(\"ex2data2.txt\", header=None, names=[\"Microchip Test 1\", \"Microchip Test 2\", \"Accepted\"])"
   ]
  },
  {
   "cell_type": "code",
   "execution_count": 53,
   "id": "8ec388ff",
   "metadata": {},
   "outputs": [
    {
     "data": {
      "text/html": [
       "<div>\n",
       "<style scoped>\n",
       "    .dataframe tbody tr th:only-of-type {\n",
       "        vertical-align: middle;\n",
       "    }\n",
       "\n",
       "    .dataframe tbody tr th {\n",
       "        vertical-align: top;\n",
       "    }\n",
       "\n",
       "    .dataframe thead th {\n",
       "        text-align: right;\n",
       "    }\n",
       "</style>\n",
       "<table border=\"1\" class=\"dataframe\">\n",
       "  <thead>\n",
       "    <tr style=\"text-align: right;\">\n",
       "      <th></th>\n",
       "      <th>Microchip Test 1</th>\n",
       "      <th>Microchip Test 2</th>\n",
       "      <th>Accepted</th>\n",
       "    </tr>\n",
       "  </thead>\n",
       "  <tbody>\n",
       "    <tr>\n",
       "      <th>0</th>\n",
       "      <td>0.051267</td>\n",
       "      <td>0.69956</td>\n",
       "      <td>1</td>\n",
       "    </tr>\n",
       "    <tr>\n",
       "      <th>1</th>\n",
       "      <td>-0.092742</td>\n",
       "      <td>0.68494</td>\n",
       "      <td>1</td>\n",
       "    </tr>\n",
       "    <tr>\n",
       "      <th>2</th>\n",
       "      <td>-0.213710</td>\n",
       "      <td>0.69225</td>\n",
       "      <td>1</td>\n",
       "    </tr>\n",
       "    <tr>\n",
       "      <th>3</th>\n",
       "      <td>-0.375000</td>\n",
       "      <td>0.50219</td>\n",
       "      <td>1</td>\n",
       "    </tr>\n",
       "    <tr>\n",
       "      <th>4</th>\n",
       "      <td>-0.513250</td>\n",
       "      <td>0.46564</td>\n",
       "      <td>1</td>\n",
       "    </tr>\n",
       "  </tbody>\n",
       "</table>\n",
       "</div>"
      ],
      "text/plain": [
       "   Microchip Test 1  Microchip Test 2  Accepted\n",
       "0          0.051267           0.69956         1\n",
       "1         -0.092742           0.68494         1\n",
       "2         -0.213710           0.69225         1\n",
       "3         -0.375000           0.50219         1\n",
       "4         -0.513250           0.46564         1"
      ]
     },
     "execution_count": 53,
     "metadata": {},
     "output_type": "execute_result"
    }
   ],
   "source": [
    "data.head()"
   ]
  },
  {
   "cell_type": "code",
   "execution_count": 54,
   "id": "ec1b637e",
   "metadata": {},
   "outputs": [
    {
     "data": {
      "text/html": [
       "<div>\n",
       "<style scoped>\n",
       "    .dataframe tbody tr th:only-of-type {\n",
       "        vertical-align: middle;\n",
       "    }\n",
       "\n",
       "    .dataframe tbody tr th {\n",
       "        vertical-align: top;\n",
       "    }\n",
       "\n",
       "    .dataframe thead th {\n",
       "        text-align: right;\n",
       "    }\n",
       "</style>\n",
       "<table border=\"1\" class=\"dataframe\">\n",
       "  <thead>\n",
       "    <tr style=\"text-align: right;\">\n",
       "      <th></th>\n",
       "      <th>Microchip Test 1</th>\n",
       "      <th>Microchip Test 2</th>\n",
       "      <th>Accepted</th>\n",
       "    </tr>\n",
       "  </thead>\n",
       "  <tbody>\n",
       "    <tr>\n",
       "      <th>count</th>\n",
       "      <td>118.000000</td>\n",
       "      <td>118.000000</td>\n",
       "      <td>118.000000</td>\n",
       "    </tr>\n",
       "    <tr>\n",
       "      <th>mean</th>\n",
       "      <td>0.054779</td>\n",
       "      <td>0.183102</td>\n",
       "      <td>0.491525</td>\n",
       "    </tr>\n",
       "    <tr>\n",
       "      <th>std</th>\n",
       "      <td>0.496654</td>\n",
       "      <td>0.519743</td>\n",
       "      <td>0.502060</td>\n",
       "    </tr>\n",
       "    <tr>\n",
       "      <th>min</th>\n",
       "      <td>-0.830070</td>\n",
       "      <td>-0.769740</td>\n",
       "      <td>0.000000</td>\n",
       "    </tr>\n",
       "    <tr>\n",
       "      <th>25%</th>\n",
       "      <td>-0.372120</td>\n",
       "      <td>-0.254385</td>\n",
       "      <td>0.000000</td>\n",
       "    </tr>\n",
       "    <tr>\n",
       "      <th>50%</th>\n",
       "      <td>-0.006336</td>\n",
       "      <td>0.213455</td>\n",
       "      <td>0.000000</td>\n",
       "    </tr>\n",
       "    <tr>\n",
       "      <th>75%</th>\n",
       "      <td>0.478970</td>\n",
       "      <td>0.646563</td>\n",
       "      <td>1.000000</td>\n",
       "    </tr>\n",
       "    <tr>\n",
       "      <th>max</th>\n",
       "      <td>1.070900</td>\n",
       "      <td>1.108900</td>\n",
       "      <td>1.000000</td>\n",
       "    </tr>\n",
       "  </tbody>\n",
       "</table>\n",
       "</div>"
      ],
      "text/plain": [
       "       Microchip Test 1  Microchip Test 2    Accepted\n",
       "count        118.000000        118.000000  118.000000\n",
       "mean           0.054779          0.183102    0.491525\n",
       "std            0.496654          0.519743    0.502060\n",
       "min           -0.830070         -0.769740    0.000000\n",
       "25%           -0.372120         -0.254385    0.000000\n",
       "50%           -0.006336          0.213455    0.000000\n",
       "75%            0.478970          0.646563    1.000000\n",
       "max            1.070900          1.108900    1.000000"
      ]
     },
     "execution_count": 54,
     "metadata": {},
     "output_type": "execute_result"
    }
   ],
   "source": [
    "data.describe()"
   ]
  },
  {
   "cell_type": "code",
   "execution_count": 58,
   "id": "22cf97c5",
   "metadata": {},
   "outputs": [],
   "source": [
    "X = data.iloc[:, :-1].values"
   ]
  },
  {
   "cell_type": "code",
   "execution_count": 59,
   "id": "f7151edc",
   "metadata": {},
   "outputs": [
    {
     "data": {
      "text/plain": [
       "(118, 2)"
      ]
     },
     "execution_count": 59,
     "metadata": {},
     "output_type": "execute_result"
    }
   ],
   "source": [
    "X.shape"
   ]
  },
  {
   "cell_type": "code",
   "execution_count": 60,
   "id": "70b91239",
   "metadata": {},
   "outputs": [],
   "source": [
    "y = data.iloc[:, -1:].values"
   ]
  },
  {
   "cell_type": "code",
   "execution_count": 62,
   "id": "c9726346",
   "metadata": {},
   "outputs": [
    {
     "data": {
      "text/plain": [
       "(118, 1)"
      ]
     },
     "execution_count": 62,
     "metadata": {},
     "output_type": "execute_result"
    }
   ],
   "source": [
    "y.shape"
   ]
  },
  {
   "cell_type": "code",
   "execution_count": 69,
   "id": "6abb8c2b",
   "metadata": {},
   "outputs": [
    {
     "data": {
      "image/png": "[encoded data removed]",
      "text/plain": [
       "<Figure size 576x432 with 1 Axes>"
      ]
     },
     "metadata": {
      "needs_background": "light"
     },
     "output_type": "display_data"
    }
   ],
   "source": [
    "#Visualizing the data\n",
    "import matplotlib.pyplot as plt\n",
    "\n",
    "plt.figure(figsize=(8, 6))\n",
    "plt.scatter(X[np.where(y == 1), 0], X[np.where(y == 1), 1], c=\"black\", marker=\"+\", label=\"Accepted\")\n",
    "plt.scatter(X[np.where(y == 0), 0], X[np.where(y == 0), 1], c=\"yellow\", marker=\"o\", label=\"Not Accepted\")\n",
    "\n",
    "plt.xlabel(\"Microchip Test 1\")\n",
    "plt.ylabel(\"Microchip Test 2\")\n",
    "\n",
    "plt.legend(loc=0)\n",
    "plt.show()"
   ]
  }
 ],
 "metadata": {
  "kernelspec": {
   "display_name": "Python 3 (ipykernel)",
   "language": "python",
   "name": "python3"
  },
  "language_info": {
   "codemirror_mode": {
    "name": "ipython",
    "version": 3
   },
   "file_extension": ".py",
   "mimetype": "text/x-python",
   "name": "python",
   "nbconvert_exporter": "python",
   "pygments_lexer": "ipython3",
   "version": "3.9.12"
  }
 },
 "nbformat": 4,
 "nbformat_minor": 5
}
