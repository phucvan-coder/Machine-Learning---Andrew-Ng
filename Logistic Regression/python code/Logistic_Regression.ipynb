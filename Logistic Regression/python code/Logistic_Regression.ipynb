{
 "cells": [
  {
   "cell_type": "markdown",
   "id": "116b0528",
   "metadata": {},
   "source": [
    "# 1 Logistic Regression"
   ]
  },
  {
   "cell_type": "markdown",
   "id": "68bced49",
   "metadata": {},
   "source": [
    "## 1.1 Visualizing the data"
   ]
  },
  {
   "cell_type": "code",
   "execution_count": 1,
   "id": "f1aebba5",
   "metadata": {},
   "outputs": [],
   "source": [
    "import pandas as pd\n",
    "import numpy as np"
   ]
  },
  {
   "cell_type": "code",
   "execution_count": 2,
   "id": "c5d7388a",
   "metadata": {},
   "outputs": [],
   "source": [
    "#load data\n",
    "data = pd.read_csv(\"ex2data1.txt\", header=None, names=[\"Exam 1 score\", \"Exam 2 score\", \" Chance of admission\"])"
   ]
  },
  {
   "cell_type": "code",
   "execution_count": 3,
   "id": "887038ca",
   "metadata": {},
   "outputs": [
    {
     "data": {
      "text/html": [
       "<div>\n",
       "<style scoped>\n",
       "    .dataframe tbody tr th:only-of-type {\n",
       "        vertical-align: middle;\n",
       "    }\n",
       "\n",
       "    .dataframe tbody tr th {\n",
       "        vertical-align: top;\n",
       "    }\n",
       "\n",
       "    .dataframe thead th {\n",
       "        text-align: right;\n",
       "    }\n",
       "</style>\n",
       "<table border=\"1\" class=\"dataframe\">\n",
       "  <thead>\n",
       "    <tr style=\"text-align: right;\">\n",
       "      <th></th>\n",
       "      <th>Exam 1 score</th>\n",
       "      <th>Exam 2 score</th>\n",
       "      <th>Chance of admission</th>\n",
       "    </tr>\n",
       "  </thead>\n",
       "  <tbody>\n",
       "    <tr>\n",
       "      <th>0</th>\n",
       "      <td>34.623660</td>\n",
       "      <td>78.024693</td>\n",
       "      <td>0</td>\n",
       "    </tr>\n",
       "    <tr>\n",
       "      <th>1</th>\n",
       "      <td>30.286711</td>\n",
       "      <td>43.894998</td>\n",
       "      <td>0</td>\n",
       "    </tr>\n",
       "    <tr>\n",
       "      <th>2</th>\n",
       "      <td>35.847409</td>\n",
       "      <td>72.902198</td>\n",
       "      <td>0</td>\n",
       "    </tr>\n",
       "    <tr>\n",
       "      <th>3</th>\n",
       "      <td>60.182599</td>\n",
       "      <td>86.308552</td>\n",
       "      <td>1</td>\n",
       "    </tr>\n",
       "    <tr>\n",
       "      <th>4</th>\n",
       "      <td>79.032736</td>\n",
       "      <td>75.344376</td>\n",
       "      <td>1</td>\n",
       "    </tr>\n",
       "  </tbody>\n",
       "</table>\n",
       "</div>"
      ],
      "text/plain": [
       "   Exam 1 score  Exam 2 score   Chance of admission\n",
       "0     34.623660     78.024693                     0\n",
       "1     30.286711     43.894998                     0\n",
       "2     35.847409     72.902198                     0\n",
       "3     60.182599     86.308552                     1\n",
       "4     79.032736     75.344376                     1"
      ]
     },
     "execution_count": 3,
     "metadata": {},
     "output_type": "execute_result"
    }
   ],
   "source": [
    "data.head()"
   ]
  },
  {
   "cell_type": "code",
   "execution_count": 4,
   "id": "5cf5003a",
   "metadata": {},
   "outputs": [
    {
     "data": {
      "text/plain": [
       "(100, 3)"
      ]
     },
     "execution_count": 4,
     "metadata": {},
     "output_type": "execute_result"
    }
   ],
   "source": [
    "data.shape"
   ]
  },
  {
   "cell_type": "code",
   "execution_count": 5,
   "id": "cbdce50c",
   "metadata": {},
   "outputs": [
    {
     "data": {
      "text/html": [
       "<div>\n",
       "<style scoped>\n",
       "    .dataframe tbody tr th:only-of-type {\n",
       "        vertical-align: middle;\n",
       "    }\n",
       "\n",
       "    .dataframe tbody tr th {\n",
       "        vertical-align: top;\n",
       "    }\n",
       "\n",
       "    .dataframe thead th {\n",
       "        text-align: right;\n",
       "    }\n",
       "</style>\n",
       "<table border=\"1\" class=\"dataframe\">\n",
       "  <thead>\n",
       "    <tr style=\"text-align: right;\">\n",
       "      <th></th>\n",
       "      <th>Exam 1 score</th>\n",
       "      <th>Exam 2 score</th>\n",
       "      <th>Chance of admission</th>\n",
       "    </tr>\n",
       "  </thead>\n",
       "  <tbody>\n",
       "    <tr>\n",
       "      <th>count</th>\n",
       "      <td>100.000000</td>\n",
       "      <td>100.000000</td>\n",
       "      <td>100.000000</td>\n",
       "    </tr>\n",
       "    <tr>\n",
       "      <th>mean</th>\n",
       "      <td>65.644274</td>\n",
       "      <td>66.221998</td>\n",
       "      <td>0.600000</td>\n",
       "    </tr>\n",
       "    <tr>\n",
       "      <th>std</th>\n",
       "      <td>19.458222</td>\n",
       "      <td>18.582783</td>\n",
       "      <td>0.492366</td>\n",
       "    </tr>\n",
       "    <tr>\n",
       "      <th>min</th>\n",
       "      <td>30.058822</td>\n",
       "      <td>30.603263</td>\n",
       "      <td>0.000000</td>\n",
       "    </tr>\n",
       "    <tr>\n",
       "      <th>25%</th>\n",
       "      <td>50.919511</td>\n",
       "      <td>48.179205</td>\n",
       "      <td>0.000000</td>\n",
       "    </tr>\n",
       "    <tr>\n",
       "      <th>50%</th>\n",
       "      <td>67.032988</td>\n",
       "      <td>67.682381</td>\n",
       "      <td>1.000000</td>\n",
       "    </tr>\n",
       "    <tr>\n",
       "      <th>75%</th>\n",
       "      <td>80.212529</td>\n",
       "      <td>79.360605</td>\n",
       "      <td>1.000000</td>\n",
       "    </tr>\n",
       "    <tr>\n",
       "      <th>max</th>\n",
       "      <td>99.827858</td>\n",
       "      <td>98.869436</td>\n",
       "      <td>1.000000</td>\n",
       "    </tr>\n",
       "  </tbody>\n",
       "</table>\n",
       "</div>"
      ],
      "text/plain": [
       "       Exam 1 score  Exam 2 score   Chance of admission\n",
       "count    100.000000    100.000000            100.000000\n",
       "mean      65.644274     66.221998              0.600000\n",
       "std       19.458222     18.582783              0.492366\n",
       "min       30.058822     30.603263              0.000000\n",
       "25%       50.919511     48.179205              0.000000\n",
       "50%       67.032988     67.682381              1.000000\n",
       "75%       80.212529     79.360605              1.000000\n",
       "max       99.827858     98.869436              1.000000"
      ]
     },
     "execution_count": 5,
     "metadata": {},
     "output_type": "execute_result"
    }
   ],
   "source": [
    "data.describe()"
   ]
  },
  {
   "cell_type": "code",
   "execution_count": 6,
   "id": "e05102bd",
   "metadata": {},
   "outputs": [],
   "source": [
    "X = data.iloc[:, :-1].values"
   ]
  },
  {
   "cell_type": "code",
   "execution_count": 7,
   "id": "57e01716",
   "metadata": {},
   "outputs": [
    {
     "data": {
      "text/plain": [
       "(100, 2)"
      ]
     },
     "execution_count": 7,
     "metadata": {},
     "output_type": "execute_result"
    }
   ],
   "source": [
    "X.shape"
   ]
  },
  {
   "cell_type": "code",
   "execution_count": 8,
   "id": "50c97b6b",
   "metadata": {},
   "outputs": [],
   "source": [
    "y = data.iloc[:, -1:].values"
   ]
  },
  {
   "cell_type": "code",
   "execution_count": 9,
   "id": "2a1eff48",
   "metadata": {},
   "outputs": [
    {
     "data": {
      "text/plain": [
       "(100, 1)"
      ]
     },
     "execution_count": 9,
     "metadata": {},
     "output_type": "execute_result"
    }
   ],
   "source": [
    "y.shape"
   ]
  },
  {
   "cell_type": "code",
   "execution_count": 10,
   "id": "c2773392",
   "metadata": {},
   "outputs": [
    {
     "data": {
      "text/plain": [
       "(60,)"
      ]
     },
     "execution_count": 10,
     "metadata": {},
     "output_type": "execute_result"
    }
   ],
   "source": [
    "y[y == 1].shape"
   ]
  },
  {
   "cell_type": "code",
   "execution_count": 11,
   "id": "25723f4d",
   "metadata": {},
   "outputs": [
    {
     "data": {
      "text/plain": [
       "(40,)"
      ]
     },
     "execution_count": 11,
     "metadata": {},
     "output_type": "execute_result"
    }
   ],
   "source": [
    "y[y == 0].shape"
   ]
  },
  {
   "cell_type": "code",
   "execution_count": 12,
   "id": "39d279ff",
   "metadata": {},
   "outputs": [
    {
     "data": {
      "image/png": "[encoded data removed]",
      "text/plain": [
       "<Figure size 432x288 with 1 Axes>"
      ]
     },
     "metadata": {
      "needs_background": "light"
     },
     "output_type": "display_data"
    }
   ],
   "source": [
    "#Visualizing the data\n",
    "import matplotlib.pyplot as plt\n",
    "\n",
    "plt.scatter(X[np.where(y == 1)[0], 0], X[np.where(y == 1)[0], 1], c=\"black\", marker=\"+\")\n",
    "plt.scatter(X[np.where(y == 0)[0], 0], X[np.where(y == 0)[0], 1], c=\"yellow\", marker=\"o\")\n",
    "\n",
    "plt.xlabel('Exam 1 score')\n",
    "plt.ylabel('Exam 2 score')\n",
    "plt.legend(['Admitted','Not Admitted'])\n",
    "\n",
    "plt.show()"
   ]
  },
  {
   "cell_type": "markdown",
   "id": "118924fe",
   "metadata": {},
   "source": [
    "## 1.2 Implementation "
   ]
  },
  {
   "cell_type": "markdown",
   "id": "8e7d53d3",
   "metadata": {},
   "source": [
    "### 1.2.1 Warmup exercise: sigmoid function "
   ]
  },
  {
   "cell_type": "code",
   "execution_count": 13,
   "id": "1ce23905",
   "metadata": {},
   "outputs": [],
   "source": [
    "def sigmoid(z):\n",
    "    result = 1 / (1 + np.exp(-z))\n",
    "    return result"
   ]
  },
  {
   "cell_type": "code",
   "execution_count": 14,
   "id": "34ef7f3d",
   "metadata": {},
   "outputs": [
    {
     "name": "stdout",
     "output_type": "stream",
     "text": [
      "sigmoid(0) =  [[5.00000000e-01]\n",
      " [9.99954602e-01]\n",
      " [4.53978687e-05]]\n"
     ]
    }
   ],
   "source": [
    "print(\"sigmoid(0) = \", sigmoid(np.array([[0],[10],[-10]])))"
   ]
  },
  {
   "cell_type": "code",
   "execution_count": 15,
   "id": "05460b23",
   "metadata": {},
   "outputs": [
    {
     "data": {
      "text/plain": [
       "0.5"
      ]
     },
     "execution_count": 15,
     "metadata": {},
     "output_type": "execute_result"
    }
   ],
   "source": [
    "sigmoid(np.array([[0],[10],[-10]]))[0].item()"
   ]
  },
  {
   "cell_type": "markdown",
   "id": "eac98889",
   "metadata": {},
   "source": [
    "### Cost Fucntion and Gradient "
   ]
  },
  {
   "cell_type": "code",
   "execution_count": 16,
   "id": "917266e9",
   "metadata": {},
   "outputs": [],
   "source": [
    "def costFunction(theta, X, y):\n",
    "    m = len(y)\n",
    "    J = 0\n",
    "    \n",
    "    #compute z\n",
    "    z = np.dot(X, theta.reshape((X.shape[1], 1)))\n",
    "    #compute sigmoid function\n",
    "    sigmoid = 1 / (1 + np.exp(-z))\n",
    "    #compute cost\n",
    "    J = (1/m) * np.sum(-y * np.log(sigmoid) - (np.ones(y.shape) - y) * np.log(1 - sigmoid))\n",
    "    \n",
    "    return J"
   ]
  },
  {
   "cell_type": "code",
   "execution_count": 17,
   "id": "6e95fc7c",
   "metadata": {},
   "outputs": [],
   "source": [
    "def Gradient(theta, X, y):\n",
    "    m = len(y)\n",
    "    J = 0\n",
    "    grad = np.zeros((theta.shape))\n",
    "    \n",
    "    #compute z\n",
    "    z = np.dot(X, theta.reshape((X.shape[1], 1)))\n",
    "    #compute sigmoid function\n",
    "    sigmoid = 1 / (1 + np.exp(-z))\n",
    "    #compute grad\n",
    "    grad = (1/m) * np.dot(X.transpose(), (sigmoid - y))\n",
    "    return grad.flatten()"
   ]
  },
  {
   "cell_type": "code",
   "execution_count": 18,
   "id": "d5034496",
   "metadata": {},
   "outputs": [],
   "source": [
    "m, n = X.shape"
   ]
  },
  {
   "cell_type": "code",
   "execution_count": 19,
   "id": "aed2b4fd",
   "metadata": {},
   "outputs": [
    {
     "data": {
      "text/plain": [
       "100"
      ]
     },
     "execution_count": 19,
     "metadata": {},
     "output_type": "execute_result"
    }
   ],
   "source": [
    "m"
   ]
  },
  {
   "cell_type": "code",
   "execution_count": 20,
   "id": "6ef83181",
   "metadata": {},
   "outputs": [
    {
     "data": {
      "text/plain": [
       "2"
      ]
     },
     "execution_count": 20,
     "metadata": {},
     "output_type": "execute_result"
    }
   ],
   "source": [
    "n"
   ]
  },
  {
   "cell_type": "code",
   "execution_count": 21,
   "id": "e6eea5be",
   "metadata": {},
   "outputs": [],
   "source": [
    "#Add intercept term to x and X_test\n",
    "X = np.append(np.ones((m, 1)), X, axis=1)"
   ]
  },
  {
   "cell_type": "code",
   "execution_count": 22,
   "id": "8383ff0d",
   "metadata": {},
   "outputs": [
    {
     "data": {
      "text/plain": [
       "(100, 3)"
      ]
     },
     "execution_count": 22,
     "metadata": {},
     "output_type": "execute_result"
    }
   ],
   "source": [
    "X.shape"
   ]
  },
  {
   "cell_type": "code",
   "execution_count": 23,
   "id": "6314d0f7",
   "metadata": {},
   "outputs": [],
   "source": [
    "#Intialize fitting parameters\n",
    "initial_theta = np.zeros(n+1)"
   ]
  },
  {
   "cell_type": "code",
   "execution_count": 24,
   "id": "511b54ff",
   "metadata": {},
   "outputs": [
    {
     "data": {
      "text/plain": [
       "array([0., 0., 0.])"
      ]
     },
     "execution_count": 24,
     "metadata": {},
     "output_type": "execute_result"
    }
   ],
   "source": [
    "initial_theta"
   ]
  },
  {
   "cell_type": "code",
   "execution_count": 25,
   "id": "5ce7c3e0",
   "metadata": {},
   "outputs": [],
   "source": [
    "#Compute and display initial cost and gradient\n",
    "cost = costFunction(initial_theta, X, y)\n",
    "grad = Gradient(initial_theta, X, y)"
   ]
  },
  {
   "cell_type": "code",
   "execution_count": 26,
   "id": "ffcd7fac",
   "metadata": {},
   "outputs": [
    {
     "name": "stdout",
     "output_type": "stream",
     "text": [
      "Cost at initial theta (zeros):  0.6931471805599453\n",
      "Expected cost (approx): 0.693\n"
     ]
    }
   ],
   "source": [
    "print(\"Cost at initial theta (zeros): \", cost)\n",
    "print(\"Expected cost (approx): 0.693\")"
   ]
  },
  {
   "cell_type": "code",
   "execution_count": 27,
   "id": "6253dbdb",
   "metadata": {},
   "outputs": [
    {
     "name": "stdout",
     "output_type": "stream",
     "text": [
      "Gradient at test theta:  [ -0.1        -12.00921659 -11.26284221]\n",
      "Expected gradient (approx): -0.1, -12.0092, -11.2628\n"
     ]
    }
   ],
   "source": [
    "print(\"Gradient at test theta: \", grad)\n",
    "print(\"Expected gradient (approx): -0.1, -12.0092, -11.2628\")"
   ]
  },
  {
   "cell_type": "code",
   "execution_count": 28,
   "id": "f1c06097",
   "metadata": {},
   "outputs": [],
   "source": [
    "#Compute and display cost and gradient with non-zero theta\n",
    "test_theta = np.array([[-24], [0.2], [0.2]])\n",
    "cost = costFunction(test_theta, X, y)\n",
    "grad = Gradient(test_theta, X, y)"
   ]
  },
  {
   "cell_type": "code",
   "execution_count": 29,
   "id": "f815ddb1",
   "metadata": {},
   "outputs": [
    {
     "name": "stdout",
     "output_type": "stream",
     "text": [
      "Cost at initial theta (zeros):  0.21833019382659788\n",
      "Expected cost (approx): 0.218\n"
     ]
    }
   ],
   "source": [
    "print(\"Cost at initial theta (zeros): \", cost)\n",
    "print(\"Expected cost (approx): 0.218\")"
   ]
  },
  {
   "cell_type": "code",
   "execution_count": 30,
   "id": "b2395411",
   "metadata": {},
   "outputs": [
    {
     "name": "stdout",
     "output_type": "stream",
     "text": [
      "Gradient at test theta:  [0.04290299 2.56623412 2.64679737]\n",
      "Expected gradient (approx): 0.043, 2.566, 2.647\n"
     ]
    }
   ],
   "source": [
    "print(\"Gradient at test theta: \", grad)\n",
    "print(\"Expected gradient (approx): 0.043, 2.566, 2.647\")"
   ]
  },
  {
   "cell_type": "markdown",
   "id": "99b3b357",
   "metadata": {},
   "source": [
    "### 1.2.3 Learning parameters  "
   ]
  },
  {
   "cell_type": "markdown",
   "id": "d8094c7e",
   "metadata": {},
   "source": [
    "### https://stackoverflow.com/questions/18801002/fminunc-alternate-in-numpy "
   ]
  },
  {
   "cell_type": "code",
   "execution_count": 31,
   "id": "4ac2a5ad",
   "metadata": {},
   "outputs": [],
   "source": [
    "#using minimize function from scipy library\n",
    "import scipy.optimize as op"
   ]
  },
  {
   "cell_type": "code",
   "execution_count": 32,
   "id": "578fca1e",
   "metadata": {},
   "outputs": [
    {
     "data": {
      "text/plain": [
       "array([0., 0., 0.])"
      ]
     },
     "execution_count": 32,
     "metadata": {},
     "output_type": "execute_result"
    }
   ],
   "source": [
    "initial_theta.flatten()"
   ]
  },
  {
   "cell_type": "code",
   "execution_count": 33,
   "id": "5ccb923c",
   "metadata": {},
   "outputs": [
    {
     "name": "stderr",
     "output_type": "stream",
     "text": [
      "C:\\Users\\lenovo\\AppData\\Local\\Temp\\ipykernel_13168\\3417624352.py:10: RuntimeWarning: divide by zero encountered in log\n",
      "  J = (1/m) * np.sum(-y * np.log(sigmoid) - (np.ones(y.shape) - y) * np.log(1 - sigmoid))\n",
      "C:\\Users\\lenovo\\AppData\\Local\\Temp\\ipykernel_13168\\3417624352.py:10: RuntimeWarning: invalid value encountered in multiply\n",
      "  J = (1/m) * np.sum(-y * np.log(sigmoid) - (np.ones(y.shape) - y) * np.log(1 - sigmoid))\n"
     ]
    }
   ],
   "source": [
    "optimization = op.minimize(fun=costFunction, x0=initial_theta.flatten(), args=(X, y), method='CG', jac=Gradient)"
   ]
  },
  {
   "cell_type": "code",
   "execution_count": 34,
   "id": "420de0e6",
   "metadata": {},
   "outputs": [
    {
     "data": {
      "text/plain": [
       "     fun: 0.203497856355157\n",
       "     jac: array([-9.59769712e-06, -8.98352890e-07, -7.83884975e-07])\n",
       " message: 'Optimization terminated successfully.'\n",
       "    nfev: 159\n",
       "     nit: 71\n",
       "    njev: 159\n",
       "  status: 0\n",
       " success: True\n",
       "       x: array([-25.1936119 ,   0.20648991,   0.20173277])"
      ]
     },
     "execution_count": 34,
     "metadata": {},
     "output_type": "execute_result"
    }
   ],
   "source": [
    "optimization"
   ]
  },
  {
   "cell_type": "code",
   "execution_count": 35,
   "id": "be72adac",
   "metadata": {},
   "outputs": [
    {
     "name": "stdout",
     "output_type": "stream",
     "text": [
      "Cost at theta after optimizing:  0.203497856355157\n",
      "Expected cost (approx): 0.203\n"
     ]
    }
   ],
   "source": [
    "print(\"Cost at theta after optimizing: \", optimization.fun)\n",
    "print(\"Expected cost (approx): 0.203\")"
   ]
  },
  {
   "cell_type": "code",
   "execution_count": 36,
   "id": "04a08954",
   "metadata": {},
   "outputs": [
    {
     "name": "stdout",
     "output_type": "stream",
     "text": [
      "Theta:  [-25.1936119    0.20648991   0.20173277]\n",
      "Expected theta (approx): -25.161, 0.206, 0.201\n"
     ]
    }
   ],
   "source": [
    "print(\"Theta: \", optimization.x)\n",
    "print(\"Expected theta (approx): -25.161, 0.206, 0.201\")"
   ]
  },
  {
   "cell_type": "markdown",
   "id": "60735284",
   "metadata": {},
   "source": [
    "### 1.2.4 Evaluating logistic regression "
   ]
  },
  {
   "cell_type": "code",
   "execution_count": 37,
   "id": "fde45578",
   "metadata": {},
   "outputs": [],
   "source": [
    "def predict(theta, X):\n",
    "    z = np.dot(X, theta)\n",
    "    prediction = sigmoid(z)\n",
    "    \n",
    "    prediction[prediction >= 0.5] = 1\n",
    "    prediction[prediction < 0.5] = 0\n",
    "    \n",
    "    return prediction"
   ]
  },
  {
   "cell_type": "code",
   "execution_count": 38,
   "id": "2d57540a",
   "metadata": {},
   "outputs": [],
   "source": [
    "optimized_theta = optimization.x.reshape((3, 1))"
   ]
  },
  {
   "cell_type": "code",
   "execution_count": 39,
   "id": "b924e7b9",
   "metadata": {},
   "outputs": [
    {
     "data": {
      "text/plain": [
       "array([[-25.1936119 ],\n",
       "       [  0.20648991],\n",
       "       [  0.20173277]])"
      ]
     },
     "execution_count": 39,
     "metadata": {},
     "output_type": "execute_result"
    }
   ],
   "source": [
    "optimized_theta"
   ]
  },
  {
   "cell_type": "code",
   "execution_count": 40,
   "id": "85993041",
   "metadata": {},
   "outputs": [],
   "source": [
    "prediction = predict(optimized_theta, X)"
   ]
  },
  {
   "cell_type": "code",
   "execution_count": 41,
   "id": "35cfeb0c",
   "metadata": {},
   "outputs": [
    {
     "data": {
      "text/plain": [
       "(100, 1)"
      ]
     },
     "execution_count": 41,
     "metadata": {},
     "output_type": "execute_result"
    }
   ],
   "source": [
    "prediction.shape"
   ]
  },
  {
   "cell_type": "markdown",
   "id": "d034f0de",
   "metadata": {},
   "source": [
    "### Decision Boundary "
   ]
  },
  {
   "cell_type": "code",
   "execution_count": 42,
   "id": "a003d348",
   "metadata": {},
   "outputs": [],
   "source": [
    "def decisionBoundary(theta, X):\n",
    "    #get 2 values min and max from X\n",
    "    x1 = np.array([np.min(X[:,1]), np.max(X[:,1])])\n",
    "    #calculate x2 (decision boundery: b + X*theta = 0)\n",
    "    x2 = -(theta[0] + x1*theta[1]) / theta[2]\n",
    "    \n",
    "    return x1, x2"
   ]
  },
  {
   "cell_type": "code",
   "execution_count": 43,
   "id": "fdc61467",
   "metadata": {},
   "outputs": [],
   "source": [
    "x1, x2 = decisionBoundary(optimized_theta, X)"
   ]
  },
  {
   "cell_type": "code",
   "execution_count": 44,
   "id": "bf1beeca",
   "metadata": {},
   "outputs": [
    {
     "data": {
      "text/plain": [
       "array([30.05882245, 99.8278578 ])"
      ]
     },
     "execution_count": 44,
     "metadata": {},
     "output_type": "execute_result"
    }
   ],
   "source": [
    "x1"
   ]
  },
  {
   "cell_type": "code",
   "execution_count": 45,
   "id": "5bd9fb0d",
   "metadata": {},
   "outputs": [
    {
     "data": {
      "text/plain": [
       "array([94.11841367, 22.70412736])"
      ]
     },
     "execution_count": 45,
     "metadata": {},
     "output_type": "execute_result"
    }
   ],
   "source": [
    "x2"
   ]
  },
  {
   "cell_type": "code",
   "execution_count": 46,
   "id": "2759099c",
   "metadata": {},
   "outputs": [
    {
     "data": {
      "image/png": "[encoded data removed]",
      "text/plain": [
       "<Figure size 432x288 with 1 Axes>"
      ]
     },
     "metadata": {
      "needs_background": "light"
     },
     "output_type": "display_data"
    }
   ],
   "source": [
    "#display decision boundery\n",
    "import matplotlib.pyplot as plt\n",
    "\n",
    "plt.scatter(X[np.where(y==1)[0], 1], X[np.where(y==1)[0], 2], c='black', marker='+', label='Admitted')\n",
    "plt.scatter(X[np.where(y==0)[0], 1], X[np.where(y==0)[0], 2], c='yellow', marker='x', label='Not Admitted')\n",
    "plt.plot(x1, x2, color='blue')\n",
    "\n",
    "plt.xlabel(\"Exam 1 score\")\n",
    "plt.ylabel(\"Exam 2 score\")\n",
    "plt.legend()\n",
    "\n",
    "plt.show()"
   ]
  },
  {
   "cell_type": "markdown",
   "id": "48a0cedf",
   "metadata": {},
   "source": [
    "# Regularized Logistic Regression "
   ]
  },
  {
   "cell_type": "code",
   "execution_count": 47,
   "id": "bf5f9e19",
   "metadata": {},
   "outputs": [],
   "source": [
    "data = pd.read_csv('ex2data2.txt', header=None, names=[\"Microchip Test 1\", \"Microchip Test 2\", \"Accepted\"])"
   ]
  },
  {
   "cell_type": "code",
   "execution_count": 48,
   "id": "c4627c04",
   "metadata": {},
   "outputs": [
    {
     "data": {
      "text/html": [
       "<div>\n",
       "<style scoped>\n",
       "    .dataframe tbody tr th:only-of-type {\n",
       "        vertical-align: middle;\n",
       "    }\n",
       "\n",
       "    .dataframe tbody tr th {\n",
       "        vertical-align: top;\n",
       "    }\n",
       "\n",
       "    .dataframe thead th {\n",
       "        text-align: right;\n",
       "    }\n",
       "</style>\n",
       "<table border=\"1\" class=\"dataframe\">\n",
       "  <thead>\n",
       "    <tr style=\"text-align: right;\">\n",
       "      <th></th>\n",
       "      <th>Microchip Test 1</th>\n",
       "      <th>Microchip Test 2</th>\n",
       "      <th>Accepted</th>\n",
       "    </tr>\n",
       "  </thead>\n",
       "  <tbody>\n",
       "    <tr>\n",
       "      <th>0</th>\n",
       "      <td>0.051267</td>\n",
       "      <td>0.69956</td>\n",
       "      <td>1</td>\n",
       "    </tr>\n",
       "    <tr>\n",
       "      <th>1</th>\n",
       "      <td>-0.092742</td>\n",
       "      <td>0.68494</td>\n",
       "      <td>1</td>\n",
       "    </tr>\n",
       "    <tr>\n",
       "      <th>2</th>\n",
       "      <td>-0.213710</td>\n",
       "      <td>0.69225</td>\n",
       "      <td>1</td>\n",
       "    </tr>\n",
       "    <tr>\n",
       "      <th>3</th>\n",
       "      <td>-0.375000</td>\n",
       "      <td>0.50219</td>\n",
       "      <td>1</td>\n",
       "    </tr>\n",
       "    <tr>\n",
       "      <th>4</th>\n",
       "      <td>-0.513250</td>\n",
       "      <td>0.46564</td>\n",
       "      <td>1</td>\n",
       "    </tr>\n",
       "  </tbody>\n",
       "</table>\n",
       "</div>"
      ],
      "text/plain": [
       "   Microchip Test 1  Microchip Test 2  Accepted\n",
       "0          0.051267           0.69956         1\n",
       "1         -0.092742           0.68494         1\n",
       "2         -0.213710           0.69225         1\n",
       "3         -0.375000           0.50219         1\n",
       "4         -0.513250           0.46564         1"
      ]
     },
     "execution_count": 48,
     "metadata": {},
     "output_type": "execute_result"
    }
   ],
   "source": [
    "data.head()"
   ]
  },
  {
   "cell_type": "code",
   "execution_count": 49,
   "id": "d43e8f4d",
   "metadata": {},
   "outputs": [
    {
     "data": {
      "text/html": [
       "<div>\n",
       "<style scoped>\n",
       "    .dataframe tbody tr th:only-of-type {\n",
       "        vertical-align: middle;\n",
       "    }\n",
       "\n",
       "    .dataframe tbody tr th {\n",
       "        vertical-align: top;\n",
       "    }\n",
       "\n",
       "    .dataframe thead th {\n",
       "        text-align: right;\n",
       "    }\n",
       "</style>\n",
       "<table border=\"1\" class=\"dataframe\">\n",
       "  <thead>\n",
       "    <tr style=\"text-align: right;\">\n",
       "      <th></th>\n",
       "      <th>Microchip Test 1</th>\n",
       "      <th>Microchip Test 2</th>\n",
       "      <th>Accepted</th>\n",
       "    </tr>\n",
       "  </thead>\n",
       "  <tbody>\n",
       "    <tr>\n",
       "      <th>count</th>\n",
       "      <td>118.000000</td>\n",
       "      <td>118.000000</td>\n",
       "      <td>118.000000</td>\n",
       "    </tr>\n",
       "    <tr>\n",
       "      <th>mean</th>\n",
       "      <td>0.054779</td>\n",
       "      <td>0.183102</td>\n",
       "      <td>0.491525</td>\n",
       "    </tr>\n",
       "    <tr>\n",
       "      <th>std</th>\n",
       "      <td>0.496654</td>\n",
       "      <td>0.519743</td>\n",
       "      <td>0.502060</td>\n",
       "    </tr>\n",
       "    <tr>\n",
       "      <th>min</th>\n",
       "      <td>-0.830070</td>\n",
       "      <td>-0.769740</td>\n",
       "      <td>0.000000</td>\n",
       "    </tr>\n",
       "    <tr>\n",
       "      <th>25%</th>\n",
       "      <td>-0.372120</td>\n",
       "      <td>-0.254385</td>\n",
       "      <td>0.000000</td>\n",
       "    </tr>\n",
       "    <tr>\n",
       "      <th>50%</th>\n",
       "      <td>-0.006336</td>\n",
       "      <td>0.213455</td>\n",
       "      <td>0.000000</td>\n",
       "    </tr>\n",
       "    <tr>\n",
       "      <th>75%</th>\n",
       "      <td>0.478970</td>\n",
       "      <td>0.646563</td>\n",
       "      <td>1.000000</td>\n",
       "    </tr>\n",
       "    <tr>\n",
       "      <th>max</th>\n",
       "      <td>1.070900</td>\n",
       "      <td>1.108900</td>\n",
       "      <td>1.000000</td>\n",
       "    </tr>\n",
       "  </tbody>\n",
       "</table>\n",
       "</div>"
      ],
      "text/plain": [
       "       Microchip Test 1  Microchip Test 2    Accepted\n",
       "count        118.000000        118.000000  118.000000\n",
       "mean           0.054779          0.183102    0.491525\n",
       "std            0.496654          0.519743    0.502060\n",
       "min           -0.830070         -0.769740    0.000000\n",
       "25%           -0.372120         -0.254385    0.000000\n",
       "50%           -0.006336          0.213455    0.000000\n",
       "75%            0.478970          0.646563    1.000000\n",
       "max            1.070900          1.108900    1.000000"
      ]
     },
     "execution_count": 49,
     "metadata": {},
     "output_type": "execute_result"
    }
   ],
   "source": [
    "data.describe()"
   ]
  },
  {
   "cell_type": "code",
   "execution_count": 50,
   "id": "cd148377",
   "metadata": {},
   "outputs": [],
   "source": [
    "X = data.iloc[:,:-1].values"
   ]
  },
  {
   "cell_type": "code",
   "execution_count": 51,
   "id": "ca6f359d",
   "metadata": {},
   "outputs": [
    {
     "data": {
      "text/plain": [
       "(118, 2)"
      ]
     },
     "execution_count": 51,
     "metadata": {},
     "output_type": "execute_result"
    }
   ],
   "source": [
    "X.shape"
   ]
  },
  {
   "cell_type": "code",
   "execution_count": 52,
   "id": "3f7c0a12",
   "metadata": {},
   "outputs": [],
   "source": [
    "y = data.iloc[:, -1:].values"
   ]
  },
  {
   "cell_type": "code",
   "execution_count": 53,
   "id": "305aed6f",
   "metadata": {},
   "outputs": [
    {
     "data": {
      "text/plain": [
       "(118, 1)"
      ]
     },
     "execution_count": 53,
     "metadata": {},
     "output_type": "execute_result"
    }
   ],
   "source": [
    "y.shape"
   ]
  },
  {
   "cell_type": "markdown",
   "id": "2e4f88dc",
   "metadata": {},
   "source": [
    "## 2.1 Visualizing the data "
   ]
  },
  {
   "cell_type": "code",
   "execution_count": 54,
   "id": "83409c6d",
   "metadata": {},
   "outputs": [
    {
     "data": {
      "image/png": "[encoded data removed]",
      "text/plain": [
       "<Figure size 576x432 with 1 Axes>"
      ]
     },
     "metadata": {
      "needs_background": "light"
     },
     "output_type": "display_data"
    }
   ],
   "source": [
    "plt.figure(figsize=(8, 6))\n",
    "plt.scatter(X[np.where(y==1)[0], 0], X[np.where(y==1)[0], 1], c='black', marker='+')\n",
    "plt.scatter(X[np.where(y==0)[0], 0], X[np.where(y==0)[0], 1], c='yellow', marker='o')\n",
    "plt.xlabel('Microchip Test 1')\n",
    "plt.ylabel('Microchip Test 2')\n",
    "plt.legend(['Accepted', 'Not Accepted'])\n",
    "plt.show()"
   ]
  },
  {
   "cell_type": "markdown",
   "id": "17f3886a",
   "metadata": {},
   "source": [
    "## 2.2 Feature mapping "
   ]
  },
  {
   "cell_type": "code",
   "execution_count": 55,
   "id": "0cace4fd",
   "metadata": {},
   "outputs": [],
   "source": [
    "def featureMapping(x1, x2, degree):\n",
    "    feature_mapping_X = np.ones((x1.shape[0],1))\n",
    "    for i in range(1, degree + 1):\n",
    "        for j in range(0, i + 1):\n",
    "            out1 = pow(x1, i - j)\n",
    "            out2 = pow(x2, j)\n",
    "            feature_mapping_X = np.append(feature_mapping_X, out1 * out2, axis=1)\n",
    "\n",
    "    return feature_mapping_X"
   ]
  },
  {
   "cell_type": "code",
   "execution_count": 56,
   "id": "74d66ac6",
   "metadata": {},
   "outputs": [],
   "source": [
    "degree = 6\n",
    "x1 = X[:, 0].reshape(y.shape)\n",
    "x2 = X[:, 1].reshape(y.shape)\n",
    "X = featureMapping(x1, x2, degree)"
   ]
  },
  {
   "cell_type": "code",
   "execution_count": 57,
   "id": "d7d29a4a",
   "metadata": {},
   "outputs": [
    {
     "data": {
      "text/plain": [
       "(118, 28)"
      ]
     },
     "execution_count": 57,
     "metadata": {},
     "output_type": "execute_result"
    }
   ],
   "source": [
    "X.shape"
   ]
  },
  {
   "cell_type": "code",
   "execution_count": 58,
   "id": "3137f751",
   "metadata": {},
   "outputs": [
    {
     "data": {
      "text/plain": [
       "array([[ 1.00000000e+00,  5.12670000e-02,  6.99560000e-01, ...,\n",
       "         6.29470940e-04,  8.58939846e-03,  1.17205992e-01],\n",
       "       [ 1.00000000e+00, -9.27420000e-02,  6.84940000e-01, ...,\n",
       "         1.89305413e-03, -1.39810280e-02,  1.03255971e-01],\n",
       "       [ 1.00000000e+00, -2.13710000e-01,  6.92250000e-01, ...,\n",
       "         1.04882142e-02, -3.39734512e-02,  1.10046893e-01],\n",
       "       ...,\n",
       "       [ 1.00000000e+00, -4.84450000e-01,  9.99270000e-01, ...,\n",
       "         2.34007252e-01, -4.82684337e-01,  9.95627986e-01],\n",
       "       [ 1.00000000e+00, -6.33640000e-03,  9.99270000e-01, ...,\n",
       "         4.00328554e-05, -6.31330588e-03,  9.95627986e-01],\n",
       "       [ 1.00000000e+00,  6.32650000e-01, -3.06120000e-02, ...,\n",
       "         3.51474517e-07, -1.70067777e-08,  8.22905998e-10]])"
      ]
     },
     "execution_count": 58,
     "metadata": {},
     "output_type": "execute_result"
    }
   ],
   "source": [
    "X"
   ]
  },
  {
   "cell_type": "markdown",
   "id": "9505fe23",
   "metadata": {},
   "source": [
    "## 2.3 Cost function and gradient "
   ]
  },
  {
   "cell_type": "code",
   "execution_count": 59,
   "id": "78e04eba",
   "metadata": {},
   "outputs": [],
   "source": [
    "#lambda\n",
    "lamb = 1"
   ]
  },
  {
   "cell_type": "code",
   "execution_count": 60,
   "id": "2f5a16d0",
   "metadata": {},
   "outputs": [],
   "source": [
    "initial_theta = np.zeros((X.shape[1]))"
   ]
  },
  {
   "cell_type": "code",
   "execution_count": 61,
   "id": "2954c003",
   "metadata": {},
   "outputs": [
    {
     "data": {
      "text/plain": [
       "(28,)"
      ]
     },
     "execution_count": 61,
     "metadata": {},
     "output_type": "execute_result"
    }
   ],
   "source": [
    "initial_theta.shape"
   ]
  },
  {
   "cell_type": "code",
   "execution_count": 62,
   "id": "c61fdc8b",
   "metadata": {},
   "outputs": [],
   "source": [
    "def regCostFunction(theta, X, y, lamb):\n",
    "    m = len(y)\n",
    "    J = 0\n",
    "    \n",
    "    #compute z\n",
    "    z = np.dot(X, theta.reshape((X.shape[1], 1)))\n",
    "    #compute cost\n",
    "    J = (1 / m) * np.sum(-y*np.log(sigmoid(z)) - (1 - y)*np.log(1 - sigmoid(z))) + (lamb / (2*m)) * np.sum(np.square(theta[1:]))\n",
    "    \n",
    "    return J"
   ]
  },
  {
   "cell_type": "code",
   "execution_count": 63,
   "id": "2546c9ba",
   "metadata": {},
   "outputs": [],
   "source": [
    "def regGradient(theta, X, y, lamb):\n",
    "    m = len(y)\n",
    "    \n",
    "    #compute z\n",
    "    z = np.dot(X, theta.reshape((X.shape[1], 1)))\n",
    "    #compute gradient for theta 0\n",
    "    theta0 = (1 / m) * np.dot(X[:, 0], (sigmoid(z) - y))\n",
    "    #compute the rest of theta\n",
    "    reg_theta = (1 / m) * np.dot(X[:, 1:].transpose(), (sigmoid(z) - y)) + (lamb / m) * theta[1:].reshape((X.shape[1]-1, 1))\n",
    "    \n",
    "    reg_theta = np.append(np.array([[theta0.item()]]), reg_theta, axis=0)\n",
    "    \n",
    "    return reg_theta.flatten()"
   ]
  },
  {
   "cell_type": "code",
   "execution_count": 64,
   "id": "64596b70",
   "metadata": {},
   "outputs": [],
   "source": [
    "cost = regCostFunction(initial_theta, X, y, lamb)\n",
    "grad = regGradient(initial_theta, X, y, lamb)"
   ]
  },
  {
   "cell_type": "code",
   "execution_count": 65,
   "id": "9e27f3ce",
   "metadata": {},
   "outputs": [
    {
     "name": "stdout",
     "output_type": "stream",
     "text": [
      "Cost at initial theta (zeros):  0.6931471805599454\n",
      "Expected cost (approx): 0.693\n",
      "Gradient at initial theta (zeros) - first five values only:  [8.47457627e-03 1.87880932e-02 7.77711864e-05 5.03446395e-02\n",
      " 1.15013308e-02]\n",
      "Expected gradients (approx) - first five values only: \n",
      " 0.0085\n",
      " 0.0188\n",
      " 0.0001\n",
      " 0.0503\n",
      " 0.0115\n",
      "\n"
     ]
    }
   ],
   "source": [
    "print('Cost at initial theta (zeros): ', cost);\n",
    "print('Expected cost (approx): 0.693');\n",
    "print('Gradient at initial theta (zeros) - first five values only: ', grad[:5]);\n",
    "print('Expected gradients (approx) - first five values only: ');\n",
    "print(' 0.0085\\n 0.0188\\n 0.0001\\n 0.0503\\n 0.0115\\n');"
   ]
  },
  {
   "cell_type": "code",
   "execution_count": 66,
   "id": "73e0d082",
   "metadata": {},
   "outputs": [],
   "source": [
    "test_theta = np.ones((X.shape[1]))"
   ]
  },
  {
   "cell_type": "code",
   "execution_count": 67,
   "id": "d1d17a26",
   "metadata": {},
   "outputs": [
    {
     "data": {
      "text/plain": [
       "(28,)"
      ]
     },
     "execution_count": 67,
     "metadata": {},
     "output_type": "execute_result"
    }
   ],
   "source": [
    "test_theta.shape"
   ]
  },
  {
   "cell_type": "code",
   "execution_count": 68,
   "id": "ab14d693",
   "metadata": {},
   "outputs": [],
   "source": [
    "#lambda\n",
    "lamb = 10"
   ]
  },
  {
   "cell_type": "code",
   "execution_count": 69,
   "id": "867640b1",
   "metadata": {},
   "outputs": [],
   "source": [
    "cost = regCostFunction(test_theta, X, y, lamb)\n",
    "grad = regGradient(test_theta, X, y, lamb)"
   ]
  },
  {
   "cell_type": "code",
   "execution_count": 70,
   "id": "11e2161d",
   "metadata": {},
   "outputs": [
    {
     "name": "stdout",
     "output_type": "stream",
     "text": [
      "Cost at test theta (with lambda = 10):  3.1645093316150095\n",
      "Expected cost (approx): 3.16\n",
      "Gradient at test theta - first five values only: [0.34604507 0.16135192 0.19479576 0.22686278 0.09218568]\n",
      "Expected gradients (approx) - first five values only:\n",
      " 0.3460\n",
      " 0.1614\n",
      " 0.1948\n",
      " 0.2269\n",
      " 0.0922\n",
      "\n"
     ]
    }
   ],
   "source": [
    "print('Cost at test theta (with lambda = 10): ', cost);\n",
    "print('Expected cost (approx): 3.16');\n",
    "print('Gradient at test theta - first five values only:', grad[:5]);\n",
    "print('Expected gradients (approx) - first five values only:');\n",
    "print(' 0.3460\\n 0.1614\\n 0.1948\\n 0.2269\\n 0.0922\\n');"
   ]
  },
  {
   "cell_type": "markdown",
   "id": "89cc7577",
   "metadata": {},
   "source": [
    "### 2.3.1 Learning parameters using minimize function from scipy library"
   ]
  },
  {
   "cell_type": "code",
   "execution_count": 71,
   "id": "0c2783ae",
   "metadata": {},
   "outputs": [],
   "source": [
    "lamb = 1"
   ]
  },
  {
   "cell_type": "code",
   "execution_count": 72,
   "id": "1109c0cc",
   "metadata": {},
   "outputs": [],
   "source": [
    "reg_optimization = op.minimize(fun=regCostFunction, x0=initial_theta, args=(X, y, lamb), method='CG', jac=regGradient, options={'maxiter':400})"
   ]
  },
  {
   "cell_type": "code",
   "execution_count": 73,
   "id": "f5af0f67",
   "metadata": {},
   "outputs": [
    {
     "data": {
      "text/plain": [
       "     fun: 0.529002731006212\n",
       "     jac: array([-2.94474513e-07, -1.51969547e-06,  2.34242171e-06,  1.85222484e-06,\n",
       "       -2.39375137e-06,  4.28896623e-06, -1.35435014e-06,  1.53201137e-06,\n",
       "       -1.93756259e-07,  7.98303947e-07, -1.50231731e-07, -1.50618936e-06,\n",
       "        4.86219414e-07, -9.80404978e-07,  1.85536010e-06, -1.27800396e-06,\n",
       "        7.29819757e-07, -6.57843926e-07,  3.56961994e-07, -2.89407947e-08,\n",
       "       -2.66030378e-07, -8.48666061e-07, -7.48052742e-07,  1.26073403e-07,\n",
       "       -6.66921660e-07,  2.79437649e-07, -6.00946281e-07,  2.20299385e-07])\n",
       " message: 'Optimization terminated successfully.'\n",
       "    nfev: 55\n",
       "     nit: 19\n",
       "    njev: 55\n",
       "  status: 0\n",
       " success: True\n",
       "       x: array([ 1.2726322 ,  0.62526851,  1.18110054, -2.01977776, -0.91750968,\n",
       "       -1.43140105,  0.12396937, -0.36542089, -0.35720348, -0.17516017,\n",
       "       -1.45817405, -0.05109747, -0.61556197, -0.2747374 , -1.19275643,\n",
       "       -0.24225813, -0.20594332, -0.04478629, -0.27777193, -0.29534672,\n",
       "       -0.45647333, -1.04328679,  0.02771439, -0.29243876,  0.01551392,\n",
       "       -0.3273817 , -0.14391016, -0.92473298])"
      ]
     },
     "execution_count": 73,
     "metadata": {},
     "output_type": "execute_result"
    }
   ],
   "source": [
    "reg_optimization"
   ]
  },
  {
   "cell_type": "code",
   "execution_count": 74,
   "id": "3aa82009",
   "metadata": {},
   "outputs": [
    {
     "name": "stdout",
     "output_type": "stream",
     "text": [
      "cost after optimization for regularization logistic regression:  0.529002731006212\n"
     ]
    }
   ],
   "source": [
    "reg_cost = reg_optimization.fun\n",
    "print(\"cost after optimization for regularization logistic regression: \", reg_cost)"
   ]
  },
  {
   "cell_type": "code",
   "execution_count": 75,
   "id": "7d8388b3",
   "metadata": {},
   "outputs": [
    {
     "name": "stdout",
     "output_type": "stream",
     "text": [
      "theta after optimization for regularization logistic regression:  [ 1.2726322   0.62526851  1.18110054 -2.01977776 -0.91750968 -1.43140105\n",
      "  0.12396937 -0.36542089 -0.35720348 -0.17516017 -1.45817405 -0.05109747\n",
      " -0.61556197 -0.2747374  -1.19275643 -0.24225813 -0.20594332 -0.04478629\n",
      " -0.27777193 -0.29534672 -0.45647333 -1.04328679  0.02771439 -0.29243876\n",
      "  0.01551392 -0.3273817  -0.14391016 -0.92473298]\n"
     ]
    }
   ],
   "source": [
    "reg_theta = reg_optimization.x\n",
    "print(\"theta after optimization for regularization logistic regression: \", reg_theta)"
   ]
  },
  {
   "cell_type": "markdown",
   "id": "2e893737",
   "metadata": {},
   "source": [
    "### Non-Linear Decision Boundery"
   ]
  },
  {
   "cell_type": "code",
   "execution_count": 76,
   "id": "26a3738e",
   "metadata": {},
   "outputs": [],
   "source": [
    "def nonLinearDecisionBoundery(theta, degree, axes):\n",
    "    u = np.linspace(-1, 1.5, 50)\n",
    "    v = np.linspace(-1, 1.5, 50)\n",
    "    U, V = np.meshgrid(u, v)\n",
    "    \n",
    "    #convert U, V to vectors for calculating additional, features\n",
    "    #using vectorized implementation\n",
    "    U = np.ravel(U)\n",
    "    V = np.ravel(V)\n",
    "    Z = np.zeros((len(u) * len(v)))\n",
    "    \n",
    "    X_poly = featureMapping(U.reshape(U.shape[0], 1), V.reshape(V.shape[0], 1), degree)\n",
    "    Z = X_poly.dot(theta)\n",
    "    \n",
    "    #reshape U, V, Z back to matrix\n",
    "    U = U.reshape((len(u), len(v)))\n",
    "    V = V.reshape((len(u), len(v)))\n",
    "    Z = Z.reshape((len(u), len(v)))\n",
    "    \n",
    "    cs = axes.contour(U, V, Z, levels=[0], cmap=\"summer\")\n",
    "    axes.legend(['Accepted','Not Accepted'])\n",
    "    \n",
    "    return cs"
   ]
  },
  {
   "cell_type": "code",
   "execution_count": 77,
   "id": "d378d69c",
   "metadata": {},
   "outputs": [
    {
     "data": {
      "image/png": "[encoded data removed]",
      "text/plain": [
       "<Figure size 576x432 with 1 Axes>"
      ]
     },
     "metadata": {
      "needs_background": "light"
     },
     "output_type": "display_data"
    }
   ],
   "source": [
    "fig, axes = plt.subplots(figsize=(8,6))\n",
    "axes.scatter(X[np.where(y==1)[0], 1], X[np.where(y==1)[0], 2], c='black', marker='+')\n",
    "axes.scatter(X[np.where(y==0)[0], 1], X[np.where(y==0)[0], 2], c='yellow', marker='o')\n",
    "axes.set_xlabel('Microchip Test 1')\n",
    "axes.set_ylabel('Microchip Test 2')\n",
    "\n",
    "degree = 6\n",
    "nonLinearDecisionBoundery(reg_theta, degree, axes)\n",
    "plt.show()"
   ]
  },
  {
   "cell_type": "code",
   "execution_count": null,
   "id": "753d4e1d",
   "metadata": {},
   "outputs": [],
   "source": []
  }
 ],
 "metadata": {
  "kernelspec": {
   "display_name": "Python 3 (ipykernel)",
   "language": "python",
   "name": "python3"
  },
  "language_info": {
   "codemirror_mode": {
    "name": "ipython",
    "version": 3
   },
   "file_extension": ".py",
   "mimetype": "text/x-python",
   "name": "python",
   "nbconvert_exporter": "python",
   "pygments_lexer": "ipython3",
   "version": "3.9.12"
  }
 },
 "nbformat": 4,
 "nbformat_minor": 5
}
